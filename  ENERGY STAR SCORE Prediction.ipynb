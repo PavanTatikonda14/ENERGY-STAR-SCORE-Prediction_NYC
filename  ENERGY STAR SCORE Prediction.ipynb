{
 "cells": [
  {
   "cell_type": "code",
   "execution_count": 87,
   "metadata": {},
   "outputs": [],
   "source": [
    "# Pandas and numpy for data manipulation\n",
    "import pandas as pd\n",
    "import numpy as np\n",
    "# Matplotlib and seaborn for visualization\n",
    "import matplotlib.pyplot as plt\n",
    "%matplotlib inline\n",
    "import seaborn as sns"
   ]
  },
  {
   "cell_type": "markdown",
   "metadata": {},
   "source": [
    "# Import Dataset"
   ]
  },
  {
   "cell_type": "code",
   "execution_count": 88,
   "metadata": {
    "scrolled": true
   },
   "outputs": [
    {
     "data": {
      "text/html": [
       "<div>\n",
       "<style scoped>\n",
       "    .dataframe tbody tr th:only-of-type {\n",
       "        vertical-align: middle;\n",
       "    }\n",
       "\n",
       "    .dataframe tbody tr th {\n",
       "        vertical-align: top;\n",
       "    }\n",
       "\n",
       "    .dataframe thead th {\n",
       "        text-align: right;\n",
       "    }\n",
       "</style>\n",
       "<table border=\"1\" class=\"dataframe\">\n",
       "  <thead>\n",
       "    <tr style=\"text-align: right;\">\n",
       "      <th></th>\n",
       "      <th>Order</th>\n",
       "      <th>Property Id</th>\n",
       "      <th>Property Name</th>\n",
       "      <th>Parent Property Id</th>\n",
       "      <th>Parent Property Name</th>\n",
       "      <th>BBL - 10 digits</th>\n",
       "      <th>NYC Borough, Block and Lot (BBL) self-reported</th>\n",
       "      <th>NYC Building Identification Number (BIN)</th>\n",
       "      <th>Address 1 (self-reported)</th>\n",
       "      <th>Address 2</th>\n",
       "      <th>...</th>\n",
       "      <th>Source EUI (kBtu/ft²)</th>\n",
       "      <th>Release Date</th>\n",
       "      <th>Water Required?</th>\n",
       "      <th>DOF Benchmarking Submission Status</th>\n",
       "      <th>Latitude</th>\n",
       "      <th>Longitude</th>\n",
       "      <th>Community Board</th>\n",
       "      <th>Council District</th>\n",
       "      <th>Census Tract</th>\n",
       "      <th>NTA</th>\n",
       "    </tr>\n",
       "  </thead>\n",
       "  <tbody>\n",
       "    <tr>\n",
       "      <th>0</th>\n",
       "      <td>1</td>\n",
       "      <td>13286</td>\n",
       "      <td>201/205</td>\n",
       "      <td>13286</td>\n",
       "      <td>201/205</td>\n",
       "      <td>1013160001</td>\n",
       "      <td>1013160001</td>\n",
       "      <td>1037549</td>\n",
       "      <td>201/205  East  42nd  st.</td>\n",
       "      <td>Not Available</td>\n",
       "      <td>...</td>\n",
       "      <td>619.4</td>\n",
       "      <td>5/1/2017 17:32</td>\n",
       "      <td>No</td>\n",
       "      <td>In Compliance</td>\n",
       "      <td>40.750791</td>\n",
       "      <td>-73.973963</td>\n",
       "      <td>6.0</td>\n",
       "      <td>4.0</td>\n",
       "      <td>88.0</td>\n",
       "      <td>Turtle Bay-East Midtown                       ...</td>\n",
       "    </tr>\n",
       "    <tr>\n",
       "      <th>1</th>\n",
       "      <td>2</td>\n",
       "      <td>28400</td>\n",
       "      <td>NYP Columbia (West Campus)</td>\n",
       "      <td>28400</td>\n",
       "      <td>NYP Columbia (West Campus)</td>\n",
       "      <td>1021380040</td>\n",
       "      <td>1-02138-0040</td>\n",
       "      <td>1084198; 1084387;1084385; 1084386; 1084388; 10...</td>\n",
       "      <td>622 168th Street</td>\n",
       "      <td>Not Available</td>\n",
       "      <td>...</td>\n",
       "      <td>404.3</td>\n",
       "      <td>4/27/2017 11:23</td>\n",
       "      <td>No</td>\n",
       "      <td>In Compliance</td>\n",
       "      <td>40.841402</td>\n",
       "      <td>-73.942568</td>\n",
       "      <td>12.0</td>\n",
       "      <td>10.0</td>\n",
       "      <td>251.0</td>\n",
       "      <td>Washington Heights South                      ...</td>\n",
       "    </tr>\n",
       "    <tr>\n",
       "      <th>2</th>\n",
       "      <td>3</td>\n",
       "      <td>4778226</td>\n",
       "      <td>MSCHoNY North</td>\n",
       "      <td>28400</td>\n",
       "      <td>NYP Columbia (West Campus)</td>\n",
       "      <td>1021380030</td>\n",
       "      <td>1-02138-0030</td>\n",
       "      <td>1063380</td>\n",
       "      <td>3975 Broadway</td>\n",
       "      <td>Not Available</td>\n",
       "      <td>...</td>\n",
       "      <td>Not Available</td>\n",
       "      <td>4/27/2017 11:23</td>\n",
       "      <td>No</td>\n",
       "      <td>In Compliance</td>\n",
       "      <td>40.840427</td>\n",
       "      <td>-73.940249</td>\n",
       "      <td>12.0</td>\n",
       "      <td>10.0</td>\n",
       "      <td>251.0</td>\n",
       "      <td>Washington Heights South                      ...</td>\n",
       "    </tr>\n",
       "    <tr>\n",
       "      <th>3</th>\n",
       "      <td>4</td>\n",
       "      <td>4778267</td>\n",
       "      <td>Herbert Irving Pavilion &amp; Millstein Hospital</td>\n",
       "      <td>28400</td>\n",
       "      <td>NYP Columbia (West Campus)</td>\n",
       "      <td>1021390001</td>\n",
       "      <td>1-02139-0001</td>\n",
       "      <td>1087281; 1076746</td>\n",
       "      <td>161 Fort Washington Ave</td>\n",
       "      <td>177 Fort Washington Ave</td>\n",
       "      <td>...</td>\n",
       "      <td>Not Available</td>\n",
       "      <td>4/27/2017 11:23</td>\n",
       "      <td>No</td>\n",
       "      <td>In Compliance</td>\n",
       "      <td>40.840746</td>\n",
       "      <td>-73.942854</td>\n",
       "      <td>12.0</td>\n",
       "      <td>10.0</td>\n",
       "      <td>255.0</td>\n",
       "      <td>Washington Heights South                      ...</td>\n",
       "    </tr>\n",
       "    <tr>\n",
       "      <th>4</th>\n",
       "      <td>5</td>\n",
       "      <td>4778288</td>\n",
       "      <td>Neuro Institute</td>\n",
       "      <td>28400</td>\n",
       "      <td>NYP Columbia (West Campus)</td>\n",
       "      <td>1021390085</td>\n",
       "      <td>1-02139-0085</td>\n",
       "      <td>1063403</td>\n",
       "      <td>710 West 168th Street</td>\n",
       "      <td>Not Available</td>\n",
       "      <td>...</td>\n",
       "      <td>Not Available</td>\n",
       "      <td>4/27/2017 11:23</td>\n",
       "      <td>No</td>\n",
       "      <td>In Compliance</td>\n",
       "      <td>40.841559</td>\n",
       "      <td>-73.942528</td>\n",
       "      <td>12.0</td>\n",
       "      <td>10.0</td>\n",
       "      <td>255.0</td>\n",
       "      <td>Washington Heights South                      ...</td>\n",
       "    </tr>\n",
       "  </tbody>\n",
       "</table>\n",
       "<p>5 rows × 60 columns</p>\n",
       "</div>"
      ],
      "text/plain": [
       "   Order  Property Id                                 Property Name  \\\n",
       "0      1        13286                                       201/205   \n",
       "1      2        28400                    NYP Columbia (West Campus)   \n",
       "2      3      4778226                                 MSCHoNY North   \n",
       "3      4      4778267  Herbert Irving Pavilion & Millstein Hospital   \n",
       "4      5      4778288                               Neuro Institute   \n",
       "\n",
       "  Parent Property Id        Parent Property Name BBL - 10 digits  \\\n",
       "0              13286                     201/205      1013160001   \n",
       "1              28400  NYP Columbia (West Campus)      1021380040   \n",
       "2              28400  NYP Columbia (West Campus)      1021380030   \n",
       "3              28400  NYP Columbia (West Campus)      1021390001   \n",
       "4              28400  NYP Columbia (West Campus)      1021390085   \n",
       "\n",
       "  NYC Borough, Block and Lot (BBL) self-reported  \\\n",
       "0                                     1013160001   \n",
       "1                                   1-02138-0040   \n",
       "2                                   1-02138-0030   \n",
       "3                                   1-02139-0001   \n",
       "4                                   1-02139-0085   \n",
       "\n",
       "            NYC Building Identification Number (BIN)  \\\n",
       "0                                            1037549   \n",
       "1  1084198; 1084387;1084385; 1084386; 1084388; 10...   \n",
       "2                                            1063380   \n",
       "3                                   1087281; 1076746   \n",
       "4                                            1063403   \n",
       "\n",
       "  Address 1 (self-reported)                Address 2  ...  \\\n",
       "0  201/205  East  42nd  st.            Not Available  ...   \n",
       "1          622 168th Street            Not Available  ...   \n",
       "2             3975 Broadway            Not Available  ...   \n",
       "3   161 Fort Washington Ave  177 Fort Washington Ave  ...   \n",
       "4     710 West 168th Street            Not Available  ...   \n",
       "\n",
       "  Source EUI (kBtu/ft²)     Release Date Water Required?  \\\n",
       "0                 619.4   5/1/2017 17:32              No   \n",
       "1                 404.3  4/27/2017 11:23              No   \n",
       "2         Not Available  4/27/2017 11:23              No   \n",
       "3         Not Available  4/27/2017 11:23              No   \n",
       "4         Not Available  4/27/2017 11:23              No   \n",
       "\n",
       "  DOF Benchmarking Submission Status   Latitude  Longitude Community Board  \\\n",
       "0                      In Compliance  40.750791 -73.973963             6.0   \n",
       "1                      In Compliance  40.841402 -73.942568            12.0   \n",
       "2                      In Compliance  40.840427 -73.940249            12.0   \n",
       "3                      In Compliance  40.840746 -73.942854            12.0   \n",
       "4                      In Compliance  40.841559 -73.942528            12.0   \n",
       "\n",
       "  Council District Census Tract  \\\n",
       "0              4.0         88.0   \n",
       "1             10.0        251.0   \n",
       "2             10.0        251.0   \n",
       "3             10.0        255.0   \n",
       "4             10.0        255.0   \n",
       "\n",
       "                                                 NTA  \n",
       "0  Turtle Bay-East Midtown                       ...  \n",
       "1  Washington Heights South                      ...  \n",
       "2  Washington Heights South                      ...  \n",
       "3  Washington Heights South                      ...  \n",
       "4  Washington Heights South                      ...  \n",
       "\n",
       "[5 rows x 60 columns]"
      ]
     },
     "execution_count": 88,
     "metadata": {},
     "output_type": "execute_result"
    }
   ],
   "source": [
    "df= pd.read_csv(r'C:/Users/Pavan/Documents/Airlines/Usecase1_Dataset.csv')\n",
    "\n",
    "df.head()"
   ]
  },
  {
   "cell_type": "code",
   "execution_count": 89,
   "metadata": {},
   "outputs": [],
   "source": [
    "# Replace all occurrences of Not Available with numpy not a number\n",
    "df = df.replace({'Not Available': np.nan})\n",
    "\n",
    "# Iterate through the columns\n",
    "for col in list(df.columns):\n",
    "    # Select columns that should be numeric\n",
    "    if ('ft²' in col or 'kBtu' in col or 'Metric Tons CO2e' in col or 'kWh' in \n",
    "        col or 'therms' in col or 'gal' in col or 'Score' in col):\n",
    "        # Convert the data type to float\n",
    "        df[col] = df[col].astype(float)"
   ]
  },
  {
   "cell_type": "markdown",
   "metadata": {},
   "source": [
    "# Missing values at individual variable level"
   ]
  },
  {
   "cell_type": "code",
   "execution_count": 90,
   "metadata": {},
   "outputs": [
    {
     "data": {
      "text/plain": [
       "Order                                                             0\n",
       "Property Id                                                       0\n",
       "Property Name                                                     0\n",
       "Parent Property Id                                                0\n",
       "Parent Property Name                                              0\n",
       "BBL - 10 digits                                                  11\n",
       "NYC Borough, Block and Lot (BBL) self-reported                   11\n",
       "NYC Building Identification Number (BIN)                        162\n",
       "Address 1 (self-reported)                                         0\n",
       "Address 2                                                     11539\n",
       "Postal Code                                                       0\n",
       "Street Number                                                   124\n",
       "Street Name                                                     122\n",
       "Borough                                                         118\n",
       "DOF Gross Floor Area                                            118\n",
       "Primary Property Type - Self Selected                             0\n",
       "List of All Property Use Types at Property                        0\n",
       "Largest Property Use Type                                         2\n",
       "Largest Property Use Type - Gross Floor Area (ft²)                2\n",
       "2nd Largest Property Use Type                                  8005\n",
       "2nd Largest Property Use - Gross Floor Area (ft²)              8005\n",
       "3rd Largest Property Use Type                                 10262\n",
       "3rd Largest Property Use Type - Gross Floor Area (ft²)        10262\n",
       "Year Built                                                        0\n",
       "Number of Buildings - Self-reported                               0\n",
       "Occupancy                                                         0\n",
       "Metered Areas (Energy)                                           57\n",
       "Metered Areas  (Water)                                         4609\n",
       "ENERGY_Score                                                   2104\n",
       "Site EUI (kBtu/ft²)                                             163\n",
       "Weather Normalized Site EUI (kBtu/ft²)                         1465\n",
       "Weather Normalized Site Electricity Intensity (kWh/ft²)         787\n",
       "Weather Normalized Site Natural Gas Intensity (therms/ft²)     1963\n",
       "Weather Normalized Source EUI (kBtu/ft²)                       1465\n",
       "Fuel Oil #1 Use (kBtu)                                        11737\n",
       "Fuel Oil #2 Use (kBtu)                                         9165\n",
       "Fuel Oil #4 Use (kBtu)                                        10425\n",
       "Fuel Oil #5 & 6 Use (kBtu)                                    11152\n",
       "Diesel #2 Use (kBtu)                                          11730\n",
       "District Steam Use (kBtu)                                     10810\n",
       "Natural Gas Use (kBtu)                                         1442\n",
       "Weather Normalized Site Natural Gas Use (therms)               1962\n",
       "Electricity Use - Grid Purchase (kBtu)                          244\n",
       "Weather Normalized Site Electricity (kWh)                       786\n",
       "Total GHG Emissions (Metric Tons CO2e)                           74\n",
       "Direct GHG Emissions (Metric Tons CO2e)                          83\n",
       "Indirect GHG Emissions (Metric Tons CO2e)                        65\n",
       "Property GFA - Self-Reported (ft²)                                0\n",
       "Water Use (All Water Sources) (kgal)                           3984\n",
       "Water Intensity (All Water Sources) (gal/ft²)                  3984\n",
       "Source EUI (kBtu/ft²)                                           163\n",
       "Release Date                                                      0\n",
       "Water Required?                                                 118\n",
       "DOF Benchmarking Submission Status                               30\n",
       "Latitude                                                       2263\n",
       "Longitude                                                      2263\n",
       "Community Board                                                2263\n",
       "Council District                                               2263\n",
       "Census Tract                                                   2263\n",
       "NTA                                                            2263\n",
       "dtype: int64"
      ]
     },
     "execution_count": 90,
     "metadata": {},
     "output_type": "execute_result"
    }
   ],
   "source": [
    "#shows the missing values at individual variable level\n",
    "\n",
    "#df.isnull().sum() --> works same as below code\n",
    "df.apply(lambda x: sum(x.isnull()), axis=0)"
   ]
  },
  {
   "cell_type": "code",
   "execution_count": 91,
   "metadata": {},
   "outputs": [],
   "source": [
    "#The Variables which can be removed are -,\n",
    "vars_to_be_removed = [ 'Address 1 (self-reported)', 'Postal Code', 'Street Number', 'Street Name', 'Address 2'\n",
    " ]\n",
    "\n",
    "df.drop(vars_to_be_removed , axis = 1, inplace=True )#inplace=True"
   ]
  },
  {
   "cell_type": "code",
   "execution_count": 92,
   "metadata": {},
   "outputs": [
    {
     "data": {
      "text/plain": [
       "141103"
      ]
     },
     "execution_count": 92,
     "metadata": {},
     "output_type": "execute_result"
    }
   ],
   "source": [
    "#shows the total number of missing values\n",
    "df.isnull().sum().sum()"
   ]
  },
  {
   "cell_type": "code",
   "execution_count": 93,
   "metadata": {},
   "outputs": [
    {
     "data": {
      "text/plain": [
       "Fuel Oil #1 Use (kBtu)                                    0.999234\n",
       "Diesel #2 Use (kBtu)                                      0.998638\n",
       "Fuel Oil #5 & 6 Use (kBtu)                                0.949430\n",
       "District Steam Use (kBtu)                                 0.920313\n",
       "Fuel Oil #4 Use (kBtu)                                    0.887536\n",
       "3rd Largest Property Use Type                             0.873659\n",
       "3rd Largest Property Use Type - Gross Floor Area (ft²)    0.873659\n",
       "Fuel Oil #2 Use (kBtu)                                    0.780266\n",
       "dtype: float64"
      ]
     },
     "execution_count": 93,
     "metadata": {},
     "output_type": "execute_result"
    }
   ],
   "source": [
    "#variables which we can remove\n",
    "var_null_pc = df.isnull().sum(axis=0).sort_values( ascending=False)/float(len(df) )\n",
    "var_null_pc[ var_null_pc > 0.75 ]"
   ]
  },
  {
   "cell_type": "code",
   "execution_count": 94,
   "metadata": {},
   "outputs": [
    {
     "data": {
      "text/html": [
       "<div>\n",
       "<style scoped>\n",
       "    .dataframe tbody tr th:only-of-type {\n",
       "        vertical-align: middle;\n",
       "    }\n",
       "\n",
       "    .dataframe tbody tr th {\n",
       "        vertical-align: top;\n",
       "    }\n",
       "\n",
       "    .dataframe thead th {\n",
       "        text-align: right;\n",
       "    }\n",
       "</style>\n",
       "<table border=\"1\" class=\"dataframe\">\n",
       "  <thead>\n",
       "    <tr style=\"text-align: right;\">\n",
       "      <th></th>\n",
       "      <th>Order</th>\n",
       "      <th>Property Id</th>\n",
       "      <th>Property Name</th>\n",
       "      <th>Parent Property Id</th>\n",
       "      <th>Parent Property Name</th>\n",
       "      <th>BBL - 10 digits</th>\n",
       "      <th>NYC Borough, Block and Lot (BBL) self-reported</th>\n",
       "      <th>NYC Building Identification Number (BIN)</th>\n",
       "      <th>Borough</th>\n",
       "      <th>DOF Gross Floor Area</th>\n",
       "      <th>...</th>\n",
       "      <th>Source EUI (kBtu/ft²)</th>\n",
       "      <th>Release Date</th>\n",
       "      <th>Water Required?</th>\n",
       "      <th>DOF Benchmarking Submission Status</th>\n",
       "      <th>Latitude</th>\n",
       "      <th>Longitude</th>\n",
       "      <th>Community Board</th>\n",
       "      <th>Council District</th>\n",
       "      <th>Census Tract</th>\n",
       "      <th>NTA</th>\n",
       "    </tr>\n",
       "  </thead>\n",
       "  <tbody>\n",
       "    <tr>\n",
       "      <th>0</th>\n",
       "      <td>1</td>\n",
       "      <td>13286</td>\n",
       "      <td>201/205</td>\n",
       "      <td>13286</td>\n",
       "      <td>201/205</td>\n",
       "      <td>1013160001</td>\n",
       "      <td>1013160001</td>\n",
       "      <td>1037549</td>\n",
       "      <td>Manhattan</td>\n",
       "      <td>289356.0</td>\n",
       "      <td>...</td>\n",
       "      <td>619.4</td>\n",
       "      <td>5/1/2017 17:32</td>\n",
       "      <td>No</td>\n",
       "      <td>In Compliance</td>\n",
       "      <td>40.750791</td>\n",
       "      <td>-73.973963</td>\n",
       "      <td>6.0</td>\n",
       "      <td>4.0</td>\n",
       "      <td>88.0</td>\n",
       "      <td>Turtle Bay-East Midtown                       ...</td>\n",
       "    </tr>\n",
       "    <tr>\n",
       "      <th>1</th>\n",
       "      <td>2</td>\n",
       "      <td>28400</td>\n",
       "      <td>NYP Columbia (West Campus)</td>\n",
       "      <td>28400</td>\n",
       "      <td>NYP Columbia (West Campus)</td>\n",
       "      <td>1021380040</td>\n",
       "      <td>1-02138-0040</td>\n",
       "      <td>1084198; 1084387;1084385; 1084386; 1084388; 10...</td>\n",
       "      <td>Manhattan</td>\n",
       "      <td>3693539.0</td>\n",
       "      <td>...</td>\n",
       "      <td>404.3</td>\n",
       "      <td>4/27/2017 11:23</td>\n",
       "      <td>No</td>\n",
       "      <td>In Compliance</td>\n",
       "      <td>40.841402</td>\n",
       "      <td>-73.942568</td>\n",
       "      <td>12.0</td>\n",
       "      <td>10.0</td>\n",
       "      <td>251.0</td>\n",
       "      <td>Washington Heights South                      ...</td>\n",
       "    </tr>\n",
       "    <tr>\n",
       "      <th>2</th>\n",
       "      <td>3</td>\n",
       "      <td>4778226</td>\n",
       "      <td>MSCHoNY North</td>\n",
       "      <td>28400</td>\n",
       "      <td>NYP Columbia (West Campus)</td>\n",
       "      <td>1021380030</td>\n",
       "      <td>1-02138-0030</td>\n",
       "      <td>1063380</td>\n",
       "      <td>Manhattan</td>\n",
       "      <td>152765.0</td>\n",
       "      <td>...</td>\n",
       "      <td>NaN</td>\n",
       "      <td>4/27/2017 11:23</td>\n",
       "      <td>No</td>\n",
       "      <td>In Compliance</td>\n",
       "      <td>40.840427</td>\n",
       "      <td>-73.940249</td>\n",
       "      <td>12.0</td>\n",
       "      <td>10.0</td>\n",
       "      <td>251.0</td>\n",
       "      <td>Washington Heights South                      ...</td>\n",
       "    </tr>\n",
       "    <tr>\n",
       "      <th>3</th>\n",
       "      <td>4</td>\n",
       "      <td>4778267</td>\n",
       "      <td>Herbert Irving Pavilion &amp; Millstein Hospital</td>\n",
       "      <td>28400</td>\n",
       "      <td>NYP Columbia (West Campus)</td>\n",
       "      <td>1021390001</td>\n",
       "      <td>1-02139-0001</td>\n",
       "      <td>1087281; 1076746</td>\n",
       "      <td>Manhattan</td>\n",
       "      <td>891040.0</td>\n",
       "      <td>...</td>\n",
       "      <td>NaN</td>\n",
       "      <td>4/27/2017 11:23</td>\n",
       "      <td>No</td>\n",
       "      <td>In Compliance</td>\n",
       "      <td>40.840746</td>\n",
       "      <td>-73.942854</td>\n",
       "      <td>12.0</td>\n",
       "      <td>10.0</td>\n",
       "      <td>255.0</td>\n",
       "      <td>Washington Heights South                      ...</td>\n",
       "    </tr>\n",
       "    <tr>\n",
       "      <th>4</th>\n",
       "      <td>5</td>\n",
       "      <td>4778288</td>\n",
       "      <td>Neuro Institute</td>\n",
       "      <td>28400</td>\n",
       "      <td>NYP Columbia (West Campus)</td>\n",
       "      <td>1021390085</td>\n",
       "      <td>1-02139-0085</td>\n",
       "      <td>1063403</td>\n",
       "      <td>Manhattan</td>\n",
       "      <td>211400.0</td>\n",
       "      <td>...</td>\n",
       "      <td>NaN</td>\n",
       "      <td>4/27/2017 11:23</td>\n",
       "      <td>No</td>\n",
       "      <td>In Compliance</td>\n",
       "      <td>40.841559</td>\n",
       "      <td>-73.942528</td>\n",
       "      <td>12.0</td>\n",
       "      <td>10.0</td>\n",
       "      <td>255.0</td>\n",
       "      <td>Washington Heights South                      ...</td>\n",
       "    </tr>\n",
       "    <tr>\n",
       "      <th>...</th>\n",
       "      <td>...</td>\n",
       "      <td>...</td>\n",
       "      <td>...</td>\n",
       "      <td>...</td>\n",
       "      <td>...</td>\n",
       "      <td>...</td>\n",
       "      <td>...</td>\n",
       "      <td>...</td>\n",
       "      <td>...</td>\n",
       "      <td>...</td>\n",
       "      <td>...</td>\n",
       "      <td>...</td>\n",
       "      <td>...</td>\n",
       "      <td>...</td>\n",
       "      <td>...</td>\n",
       "      <td>...</td>\n",
       "      <td>...</td>\n",
       "      <td>...</td>\n",
       "      <td>...</td>\n",
       "      <td>...</td>\n",
       "      <td>...</td>\n",
       "    </tr>\n",
       "    <tr>\n",
       "      <th>11741</th>\n",
       "      <td>14988</td>\n",
       "      <td>4940453</td>\n",
       "      <td>Advanced: 24 Monroe Place</td>\n",
       "      <td>Not Applicable: Standalone Property</td>\n",
       "      <td>Not Applicable: Standalone Property</td>\n",
       "      <td>3002380026</td>\n",
       "      <td>3-00238-0026\\t</td>\n",
       "      <td>3001927</td>\n",
       "      <td>Brooklyn</td>\n",
       "      <td>70645.0</td>\n",
       "      <td>...</td>\n",
       "      <td>109.6</td>\n",
       "      <td>4/26/2017 11:20</td>\n",
       "      <td>NaN</td>\n",
       "      <td>NaN</td>\n",
       "      <td>40.696420</td>\n",
       "      <td>-73.992495</td>\n",
       "      <td>2.0</td>\n",
       "      <td>33.0</td>\n",
       "      <td>502.0</td>\n",
       "      <td>Brooklyn Heights-Cobble Hill                  ...</td>\n",
       "    </tr>\n",
       "    <tr>\n",
       "      <th>11742</th>\n",
       "      <td>14989</td>\n",
       "      <td>4940416</td>\n",
       "      <td>Advanced: 150 Joralemon St / 124 Clinton St</td>\n",
       "      <td>Not Applicable: Standalone Property</td>\n",
       "      <td>Not Applicable: Standalone Property</td>\n",
       "      <td>3002640017</td>\n",
       "      <td>3-00264-0017\\t</td>\n",
       "      <td>3002539</td>\n",
       "      <td>Brooklyn</td>\n",
       "      <td>93500.0</td>\n",
       "      <td>...</td>\n",
       "      <td>153.4</td>\n",
       "      <td>4/26/2017 11:20</td>\n",
       "      <td>NaN</td>\n",
       "      <td>NaN</td>\n",
       "      <td>40.692602</td>\n",
       "      <td>-73.993231</td>\n",
       "      <td>2.0</td>\n",
       "      <td>33.0</td>\n",
       "      <td>7.0</td>\n",
       "      <td>Brooklyn Heights-Cobble Hill                  ...</td>\n",
       "    </tr>\n",
       "    <tr>\n",
       "      <th>11743</th>\n",
       "      <td>14990</td>\n",
       "      <td>4628296</td>\n",
       "      <td>(9267) - 267 Sixth St</td>\n",
       "      <td>Not Applicable: Standalone Property</td>\n",
       "      <td>Not Applicable: Standalone Property</td>\n",
       "      <td>3009870001​</td>\n",
       "      <td>3-00987-0001​</td>\n",
       "      <td>3413788; 3021326</td>\n",
       "      <td>NaN</td>\n",
       "      <td>NaN</td>\n",
       "      <td>...</td>\n",
       "      <td>103.6</td>\n",
       "      <td>3/23/2017 14:51</td>\n",
       "      <td>NaN</td>\n",
       "      <td>NaN</td>\n",
       "      <td>NaN</td>\n",
       "      <td>NaN</td>\n",
       "      <td>NaN</td>\n",
       "      <td>NaN</td>\n",
       "      <td>NaN</td>\n",
       "      <td>NaN</td>\n",
       "    </tr>\n",
       "    <tr>\n",
       "      <th>11744</th>\n",
       "      <td>14991</td>\n",
       "      <td>4940464</td>\n",
       "      <td>Advanced: 27 Prospect Park West</td>\n",
       "      <td>Not Applicable: Standalone Property</td>\n",
       "      <td>Not Applicable: Standalone Property</td>\n",
       "      <td>3010720040</td>\n",
       "      <td>3-01072-0040\\t</td>\n",
       "      <td>3024968;3824680</td>\n",
       "      <td>Brooklyn</td>\n",
       "      <td>57824.0</td>\n",
       "      <td>...</td>\n",
       "      <td>92.7</td>\n",
       "      <td>4/26/2017 11:20</td>\n",
       "      <td>NaN</td>\n",
       "      <td>NaN</td>\n",
       "      <td>40.670728</td>\n",
       "      <td>-73.971752</td>\n",
       "      <td>6.0</td>\n",
       "      <td>39.0</td>\n",
       "      <td>165.0</td>\n",
       "      <td>Park Slope-Gowanus                            ...</td>\n",
       "    </tr>\n",
       "    <tr>\n",
       "      <th>11745</th>\n",
       "      <td>14993</td>\n",
       "      <td>4952165</td>\n",
       "      <td>Tryad: 420 Clinton Ave</td>\n",
       "      <td>Not Applicable: Standalone Property</td>\n",
       "      <td>Not Applicable: Standalone Property</td>\n",
       "      <td>3019600022</td>\n",
       "      <td>3-01960-0022\\t</td>\n",
       "      <td>3055969</td>\n",
       "      <td>Brooklyn</td>\n",
       "      <td>60720.0</td>\n",
       "      <td>...</td>\n",
       "      <td>161.9</td>\n",
       "      <td>4/27/2017 6:37</td>\n",
       "      <td>Yes</td>\n",
       "      <td>NaN</td>\n",
       "      <td>40.685549</td>\n",
       "      <td>-73.968310</td>\n",
       "      <td>2.0</td>\n",
       "      <td>35.0</td>\n",
       "      <td>199.0</td>\n",
       "      <td>Clinton Hill                                  ...</td>\n",
       "    </tr>\n",
       "  </tbody>\n",
       "</table>\n",
       "<p>11680 rows × 55 columns</p>\n",
       "</div>"
      ],
      "text/plain": [
       "       Order  Property Id                                 Property Name  \\\n",
       "0          1        13286                                       201/205   \n",
       "1          2        28400                    NYP Columbia (West Campus)   \n",
       "2          3      4778226                                 MSCHoNY North   \n",
       "3          4      4778267  Herbert Irving Pavilion & Millstein Hospital   \n",
       "4          5      4778288                               Neuro Institute   \n",
       "...      ...          ...                                           ...   \n",
       "11741  14988      4940453                     Advanced: 24 Monroe Place   \n",
       "11742  14989      4940416   Advanced: 150 Joralemon St / 124 Clinton St   \n",
       "11743  14990      4628296                         (9267) - 267 Sixth St   \n",
       "11744  14991      4940464               Advanced: 27 Prospect Park West   \n",
       "11745  14993      4952165                        Tryad: 420 Clinton Ave   \n",
       "\n",
       "                        Parent Property Id  \\\n",
       "0                                    13286   \n",
       "1                                    28400   \n",
       "2                                    28400   \n",
       "3                                    28400   \n",
       "4                                    28400   \n",
       "...                                    ...   \n",
       "11741  Not Applicable: Standalone Property   \n",
       "11742  Not Applicable: Standalone Property   \n",
       "11743  Not Applicable: Standalone Property   \n",
       "11744  Not Applicable: Standalone Property   \n",
       "11745  Not Applicable: Standalone Property   \n",
       "\n",
       "                      Parent Property Name BBL - 10 digits  \\\n",
       "0                                  201/205      1013160001   \n",
       "1               NYP Columbia (West Campus)      1021380040   \n",
       "2               NYP Columbia (West Campus)      1021380030   \n",
       "3               NYP Columbia (West Campus)      1021390001   \n",
       "4               NYP Columbia (West Campus)      1021390085   \n",
       "...                                    ...             ...   \n",
       "11741  Not Applicable: Standalone Property      3002380026   \n",
       "11742  Not Applicable: Standalone Property      3002640017   \n",
       "11743  Not Applicable: Standalone Property     3009870001​   \n",
       "11744  Not Applicable: Standalone Property      3010720040   \n",
       "11745  Not Applicable: Standalone Property      3019600022   \n",
       "\n",
       "      NYC Borough, Block and Lot (BBL) self-reported  \\\n",
       "0                                         1013160001   \n",
       "1                                       1-02138-0040   \n",
       "2                                       1-02138-0030   \n",
       "3                                       1-02139-0001   \n",
       "4                                       1-02139-0085   \n",
       "...                                              ...   \n",
       "11741                                 3-00238-0026\\t   \n",
       "11742                                 3-00264-0017\\t   \n",
       "11743                                  3-00987-0001​   \n",
       "11744                                 3-01072-0040\\t   \n",
       "11745                                 3-01960-0022\\t   \n",
       "\n",
       "                NYC Building Identification Number (BIN)    Borough  \\\n",
       "0                                                1037549  Manhattan   \n",
       "1      1084198; 1084387;1084385; 1084386; 1084388; 10...  Manhattan   \n",
       "2                                                1063380  Manhattan   \n",
       "3                                       1087281; 1076746  Manhattan   \n",
       "4                                                1063403  Manhattan   \n",
       "...                                                  ...        ...   \n",
       "11741                                            3001927   Brooklyn   \n",
       "11742                                            3002539   Brooklyn   \n",
       "11743                                   3413788; 3021326        NaN   \n",
       "11744                                    3024968;3824680   Brooklyn   \n",
       "11745                                            3055969   Brooklyn   \n",
       "\n",
       "       DOF Gross Floor Area  ... Source EUI (kBtu/ft²)     Release Date  \\\n",
       "0                  289356.0  ...                 619.4   5/1/2017 17:32   \n",
       "1                 3693539.0  ...                 404.3  4/27/2017 11:23   \n",
       "2                  152765.0  ...                   NaN  4/27/2017 11:23   \n",
       "3                  891040.0  ...                   NaN  4/27/2017 11:23   \n",
       "4                  211400.0  ...                   NaN  4/27/2017 11:23   \n",
       "...                     ...  ...                   ...              ...   \n",
       "11741               70645.0  ...                 109.6  4/26/2017 11:20   \n",
       "11742               93500.0  ...                 153.4  4/26/2017 11:20   \n",
       "11743                   NaN  ...                 103.6  3/23/2017 14:51   \n",
       "11744               57824.0  ...                  92.7  4/26/2017 11:20   \n",
       "11745               60720.0  ...                 161.9   4/27/2017 6:37   \n",
       "\n",
       "      Water Required?  DOF Benchmarking Submission Status   Latitude  \\\n",
       "0                  No                       In Compliance  40.750791   \n",
       "1                  No                       In Compliance  40.841402   \n",
       "2                  No                       In Compliance  40.840427   \n",
       "3                  No                       In Compliance  40.840746   \n",
       "4                  No                       In Compliance  40.841559   \n",
       "...               ...                                 ...        ...   \n",
       "11741             NaN                                 NaN  40.696420   \n",
       "11742             NaN                                 NaN  40.692602   \n",
       "11743             NaN                                 NaN        NaN   \n",
       "11744             NaN                                 NaN  40.670728   \n",
       "11745             Yes                                 NaN  40.685549   \n",
       "\n",
       "       Longitude Community Board  Council District  Census Tract  \\\n",
       "0     -73.973963             6.0               4.0          88.0   \n",
       "1     -73.942568            12.0              10.0         251.0   \n",
       "2     -73.940249            12.0              10.0         251.0   \n",
       "3     -73.942854            12.0              10.0         255.0   \n",
       "4     -73.942528            12.0              10.0         255.0   \n",
       "...          ...             ...               ...           ...   \n",
       "11741 -73.992495             2.0              33.0         502.0   \n",
       "11742 -73.993231             2.0              33.0           7.0   \n",
       "11743        NaN             NaN               NaN           NaN   \n",
       "11744 -73.971752             6.0              39.0         165.0   \n",
       "11745 -73.968310             2.0              35.0         199.0   \n",
       "\n",
       "                                                     NTA  \n",
       "0      Turtle Bay-East Midtown                       ...  \n",
       "1      Washington Heights South                      ...  \n",
       "2      Washington Heights South                      ...  \n",
       "3      Washington Heights South                      ...  \n",
       "4      Washington Heights South                      ...  \n",
       "...                                                  ...  \n",
       "11741  Brooklyn Heights-Cobble Hill                  ...  \n",
       "11742  Brooklyn Heights-Cobble Hill                  ...  \n",
       "11743                                                NaN  \n",
       "11744  Park Slope-Gowanus                            ...  \n",
       "11745  Clinton Hill                                  ...  \n",
       "\n",
       "[11680 rows x 55 columns]"
      ]
     },
     "execution_count": 94,
     "metadata": {},
     "output_type": "execute_result"
    }
   ],
   "source": [
    "df.drop( var_null_pc[ var_null_pc > 0.75 ].index, axis = 1,  ) \n",
    "df.dropna( axis = 0, thresh = 30, )"
   ]
  },
  {
   "cell_type": "code",
   "execution_count": 95,
   "metadata": {},
   "outputs": [
    {
     "data": {
      "text/plain": [
       "(11746, 55)"
      ]
     },
     "execution_count": 95,
     "metadata": {},
     "output_type": "execute_result"
    }
   ],
   "source": [
    "df.shape"
   ]
  },
  {
   "cell_type": "code",
   "execution_count": 96,
   "metadata": {},
   "outputs": [],
   "source": [
    "# function to calculate missing values by column\n",
    "def missing_values_table(df):\n",
    "    #total mising values\n",
    "    mis_val=df.isnull().sum()\n",
    "    #% of missing values\n",
    "    mis_val_percent=100*df.isnull().sum()/len(df)\n",
    "    #make a table with results\n",
    "    mis_val_table=pd.concat([mis_val,mis_val_percent],axis=1)\n",
    "    #rename columns\n",
    "    mis_val_table_ren_columns=mis_val_table.rename(columns={0:'missing values',1:'% of total values'})\n",
    "    #sort the table by % of missing descending\n",
    "    mis_val_table_ren_columns=mis_val_table_ren_columns[\n",
    "        mis_val_table_ren_columns.iloc[:,1] != 0].sort_values('% of total values',ascending=False).round(1)\n",
    "    #print some summery\n",
    "    print('your data has ' + str(df.shape[1]) + \" columns.\"\n",
    "         'there are ' + str(mis_val_table_ren_columns.shape[0]) + ' columns has missing values')\n",
    "    return mis_val_table_ren_columns"
   ]
  },
  {
   "cell_type": "code",
   "execution_count": 97,
   "metadata": {},
   "outputs": [
    {
     "name": "stdout",
     "output_type": "stream",
     "text": [
      "your data has 55 columns.there are 43 columns has missing values\n"
     ]
    },
    {
     "data": {
      "text/html": [
       "<div>\n",
       "<style scoped>\n",
       "    .dataframe tbody tr th:only-of-type {\n",
       "        vertical-align: middle;\n",
       "    }\n",
       "\n",
       "    .dataframe tbody tr th {\n",
       "        vertical-align: top;\n",
       "    }\n",
       "\n",
       "    .dataframe thead th {\n",
       "        text-align: right;\n",
       "    }\n",
       "</style>\n",
       "<table border=\"1\" class=\"dataframe\">\n",
       "  <thead>\n",
       "    <tr style=\"text-align: right;\">\n",
       "      <th></th>\n",
       "      <th>missing values</th>\n",
       "      <th>% of total values</th>\n",
       "    </tr>\n",
       "  </thead>\n",
       "  <tbody>\n",
       "    <tr>\n",
       "      <th>Fuel Oil #1 Use (kBtu)</th>\n",
       "      <td>11737</td>\n",
       "      <td>99.9</td>\n",
       "    </tr>\n",
       "    <tr>\n",
       "      <th>Diesel #2 Use (kBtu)</th>\n",
       "      <td>11730</td>\n",
       "      <td>99.9</td>\n",
       "    </tr>\n",
       "    <tr>\n",
       "      <th>Fuel Oil #5 &amp; 6 Use (kBtu)</th>\n",
       "      <td>11152</td>\n",
       "      <td>94.9</td>\n",
       "    </tr>\n",
       "    <tr>\n",
       "      <th>District Steam Use (kBtu)</th>\n",
       "      <td>10810</td>\n",
       "      <td>92.0</td>\n",
       "    </tr>\n",
       "    <tr>\n",
       "      <th>Fuel Oil #4 Use (kBtu)</th>\n",
       "      <td>10425</td>\n",
       "      <td>88.8</td>\n",
       "    </tr>\n",
       "    <tr>\n",
       "      <th>3rd Largest Property Use Type - Gross Floor Area (ft²)</th>\n",
       "      <td>10262</td>\n",
       "      <td>87.4</td>\n",
       "    </tr>\n",
       "    <tr>\n",
       "      <th>3rd Largest Property Use Type</th>\n",
       "      <td>10262</td>\n",
       "      <td>87.4</td>\n",
       "    </tr>\n",
       "    <tr>\n",
       "      <th>Fuel Oil #2 Use (kBtu)</th>\n",
       "      <td>9165</td>\n",
       "      <td>78.0</td>\n",
       "    </tr>\n",
       "    <tr>\n",
       "      <th>2nd Largest Property Use Type</th>\n",
       "      <td>8005</td>\n",
       "      <td>68.2</td>\n",
       "    </tr>\n",
       "    <tr>\n",
       "      <th>2nd Largest Property Use - Gross Floor Area (ft²)</th>\n",
       "      <td>8005</td>\n",
       "      <td>68.2</td>\n",
       "    </tr>\n",
       "    <tr>\n",
       "      <th>Metered Areas  (Water)</th>\n",
       "      <td>4609</td>\n",
       "      <td>39.2</td>\n",
       "    </tr>\n",
       "    <tr>\n",
       "      <th>Water Intensity (All Water Sources) (gal/ft²)</th>\n",
       "      <td>3984</td>\n",
       "      <td>33.9</td>\n",
       "    </tr>\n",
       "    <tr>\n",
       "      <th>Water Use (All Water Sources) (kgal)</th>\n",
       "      <td>3984</td>\n",
       "      <td>33.9</td>\n",
       "    </tr>\n",
       "    <tr>\n",
       "      <th>Latitude</th>\n",
       "      <td>2263</td>\n",
       "      <td>19.3</td>\n",
       "    </tr>\n",
       "    <tr>\n",
       "      <th>Longitude</th>\n",
       "      <td>2263</td>\n",
       "      <td>19.3</td>\n",
       "    </tr>\n",
       "    <tr>\n",
       "      <th>Community Board</th>\n",
       "      <td>2263</td>\n",
       "      <td>19.3</td>\n",
       "    </tr>\n",
       "    <tr>\n",
       "      <th>Council District</th>\n",
       "      <td>2263</td>\n",
       "      <td>19.3</td>\n",
       "    </tr>\n",
       "    <tr>\n",
       "      <th>Census Tract</th>\n",
       "      <td>2263</td>\n",
       "      <td>19.3</td>\n",
       "    </tr>\n",
       "    <tr>\n",
       "      <th>NTA</th>\n",
       "      <td>2263</td>\n",
       "      <td>19.3</td>\n",
       "    </tr>\n",
       "    <tr>\n",
       "      <th>ENERGY_Score</th>\n",
       "      <td>2104</td>\n",
       "      <td>17.9</td>\n",
       "    </tr>\n",
       "    <tr>\n",
       "      <th>Weather Normalized Site Natural Gas Intensity (therms/ft²)</th>\n",
       "      <td>1963</td>\n",
       "      <td>16.7</td>\n",
       "    </tr>\n",
       "    <tr>\n",
       "      <th>Weather Normalized Site Natural Gas Use (therms)</th>\n",
       "      <td>1962</td>\n",
       "      <td>16.7</td>\n",
       "    </tr>\n",
       "    <tr>\n",
       "      <th>Weather Normalized Source EUI (kBtu/ft²)</th>\n",
       "      <td>1465</td>\n",
       "      <td>12.5</td>\n",
       "    </tr>\n",
       "    <tr>\n",
       "      <th>Weather Normalized Site EUI (kBtu/ft²)</th>\n",
       "      <td>1465</td>\n",
       "      <td>12.5</td>\n",
       "    </tr>\n",
       "    <tr>\n",
       "      <th>Natural Gas Use (kBtu)</th>\n",
       "      <td>1442</td>\n",
       "      <td>12.3</td>\n",
       "    </tr>\n",
       "    <tr>\n",
       "      <th>Weather Normalized Site Electricity Intensity (kWh/ft²)</th>\n",
       "      <td>787</td>\n",
       "      <td>6.7</td>\n",
       "    </tr>\n",
       "    <tr>\n",
       "      <th>Weather Normalized Site Electricity (kWh)</th>\n",
       "      <td>786</td>\n",
       "      <td>6.7</td>\n",
       "    </tr>\n",
       "    <tr>\n",
       "      <th>Electricity Use - Grid Purchase (kBtu)</th>\n",
       "      <td>244</td>\n",
       "      <td>2.1</td>\n",
       "    </tr>\n",
       "    <tr>\n",
       "      <th>Site EUI (kBtu/ft²)</th>\n",
       "      <td>163</td>\n",
       "      <td>1.4</td>\n",
       "    </tr>\n",
       "    <tr>\n",
       "      <th>Source EUI (kBtu/ft²)</th>\n",
       "      <td>163</td>\n",
       "      <td>1.4</td>\n",
       "    </tr>\n",
       "    <tr>\n",
       "      <th>NYC Building Identification Number (BIN)</th>\n",
       "      <td>162</td>\n",
       "      <td>1.4</td>\n",
       "    </tr>\n",
       "    <tr>\n",
       "      <th>DOF Gross Floor Area</th>\n",
       "      <td>118</td>\n",
       "      <td>1.0</td>\n",
       "    </tr>\n",
       "    <tr>\n",
       "      <th>Borough</th>\n",
       "      <td>118</td>\n",
       "      <td>1.0</td>\n",
       "    </tr>\n",
       "    <tr>\n",
       "      <th>Water Required?</th>\n",
       "      <td>118</td>\n",
       "      <td>1.0</td>\n",
       "    </tr>\n",
       "    <tr>\n",
       "      <th>Direct GHG Emissions (Metric Tons CO2e)</th>\n",
       "      <td>83</td>\n",
       "      <td>0.7</td>\n",
       "    </tr>\n",
       "    <tr>\n",
       "      <th>Total GHG Emissions (Metric Tons CO2e)</th>\n",
       "      <td>74</td>\n",
       "      <td>0.6</td>\n",
       "    </tr>\n",
       "    <tr>\n",
       "      <th>Indirect GHG Emissions (Metric Tons CO2e)</th>\n",
       "      <td>65</td>\n",
       "      <td>0.6</td>\n",
       "    </tr>\n",
       "    <tr>\n",
       "      <th>Metered Areas (Energy)</th>\n",
       "      <td>57</td>\n",
       "      <td>0.5</td>\n",
       "    </tr>\n",
       "    <tr>\n",
       "      <th>DOF Benchmarking Submission Status</th>\n",
       "      <td>30</td>\n",
       "      <td>0.3</td>\n",
       "    </tr>\n",
       "    <tr>\n",
       "      <th>NYC Borough, Block and Lot (BBL) self-reported</th>\n",
       "      <td>11</td>\n",
       "      <td>0.1</td>\n",
       "    </tr>\n",
       "    <tr>\n",
       "      <th>BBL - 10 digits</th>\n",
       "      <td>11</td>\n",
       "      <td>0.1</td>\n",
       "    </tr>\n",
       "    <tr>\n",
       "      <th>Largest Property Use Type - Gross Floor Area (ft²)</th>\n",
       "      <td>2</td>\n",
       "      <td>0.0</td>\n",
       "    </tr>\n",
       "    <tr>\n",
       "      <th>Largest Property Use Type</th>\n",
       "      <td>2</td>\n",
       "      <td>0.0</td>\n",
       "    </tr>\n",
       "  </tbody>\n",
       "</table>\n",
       "</div>"
      ],
      "text/plain": [
       "                                                    missing values  \\\n",
       "Fuel Oil #1 Use (kBtu)                                       11737   \n",
       "Diesel #2 Use (kBtu)                                         11730   \n",
       "Fuel Oil #5 & 6 Use (kBtu)                                   11152   \n",
       "District Steam Use (kBtu)                                    10810   \n",
       "Fuel Oil #4 Use (kBtu)                                       10425   \n",
       "3rd Largest Property Use Type - Gross Floor Are...           10262   \n",
       "3rd Largest Property Use Type                                10262   \n",
       "Fuel Oil #2 Use (kBtu)                                        9165   \n",
       "2nd Largest Property Use Type                                 8005   \n",
       "2nd Largest Property Use - Gross Floor Area (ft²)             8005   \n",
       "Metered Areas  (Water)                                        4609   \n",
       "Water Intensity (All Water Sources) (gal/ft²)                 3984   \n",
       "Water Use (All Water Sources) (kgal)                          3984   \n",
       "Latitude                                                      2263   \n",
       "Longitude                                                     2263   \n",
       "Community Board                                               2263   \n",
       "Council District                                              2263   \n",
       "Census Tract                                                  2263   \n",
       "NTA                                                           2263   \n",
       "ENERGY_Score                                                  2104   \n",
       "Weather Normalized Site Natural Gas Intensity (...            1963   \n",
       "Weather Normalized Site Natural Gas Use (therms)              1962   \n",
       "Weather Normalized Source EUI (kBtu/ft²)                      1465   \n",
       "Weather Normalized Site EUI (kBtu/ft²)                        1465   \n",
       "Natural Gas Use (kBtu)                                        1442   \n",
       "Weather Normalized Site Electricity Intensity (...             787   \n",
       "Weather Normalized Site Electricity (kWh)                      786   \n",
       "Electricity Use - Grid Purchase (kBtu)                         244   \n",
       "Site EUI (kBtu/ft²)                                            163   \n",
       "Source EUI (kBtu/ft²)                                          163   \n",
       "NYC Building Identification Number (BIN)                       162   \n",
       "DOF Gross Floor Area                                           118   \n",
       "Borough                                                        118   \n",
       "Water Required?                                                118   \n",
       "Direct GHG Emissions (Metric Tons CO2e)                         83   \n",
       "Total GHG Emissions (Metric Tons CO2e)                          74   \n",
       "Indirect GHG Emissions (Metric Tons CO2e)                       65   \n",
       "Metered Areas (Energy)                                          57   \n",
       "DOF Benchmarking Submission Status                              30   \n",
       "NYC Borough, Block and Lot (BBL) self-reported                  11   \n",
       "BBL - 10 digits                                                 11   \n",
       "Largest Property Use Type - Gross Floor Area (ft²)               2   \n",
       "Largest Property Use Type                                        2   \n",
       "\n",
       "                                                    % of total values  \n",
       "Fuel Oil #1 Use (kBtu)                                           99.9  \n",
       "Diesel #2 Use (kBtu)                                             99.9  \n",
       "Fuel Oil #5 & 6 Use (kBtu)                                       94.9  \n",
       "District Steam Use (kBtu)                                        92.0  \n",
       "Fuel Oil #4 Use (kBtu)                                           88.8  \n",
       "3rd Largest Property Use Type - Gross Floor Are...               87.4  \n",
       "3rd Largest Property Use Type                                    87.4  \n",
       "Fuel Oil #2 Use (kBtu)                                           78.0  \n",
       "2nd Largest Property Use Type                                    68.2  \n",
       "2nd Largest Property Use - Gross Floor Area (ft²)                68.2  \n",
       "Metered Areas  (Water)                                           39.2  \n",
       "Water Intensity (All Water Sources) (gal/ft²)                    33.9  \n",
       "Water Use (All Water Sources) (kgal)                             33.9  \n",
       "Latitude                                                         19.3  \n",
       "Longitude                                                        19.3  \n",
       "Community Board                                                  19.3  \n",
       "Council District                                                 19.3  \n",
       "Census Tract                                                     19.3  \n",
       "NTA                                                              19.3  \n",
       "ENERGY_Score                                                     17.9  \n",
       "Weather Normalized Site Natural Gas Intensity (...               16.7  \n",
       "Weather Normalized Site Natural Gas Use (therms)                 16.7  \n",
       "Weather Normalized Source EUI (kBtu/ft²)                         12.5  \n",
       "Weather Normalized Site EUI (kBtu/ft²)                           12.5  \n",
       "Natural Gas Use (kBtu)                                           12.3  \n",
       "Weather Normalized Site Electricity Intensity (...                6.7  \n",
       "Weather Normalized Site Electricity (kWh)                         6.7  \n",
       "Electricity Use - Grid Purchase (kBtu)                            2.1  \n",
       "Site EUI (kBtu/ft²)                                               1.4  \n",
       "Source EUI (kBtu/ft²)                                             1.4  \n",
       "NYC Building Identification Number (BIN)                          1.4  \n",
       "DOF Gross Floor Area                                              1.0  \n",
       "Borough                                                           1.0  \n",
       "Water Required?                                                   1.0  \n",
       "Direct GHG Emissions (Metric Tons CO2e)                           0.7  \n",
       "Total GHG Emissions (Metric Tons CO2e)                            0.6  \n",
       "Indirect GHG Emissions (Metric Tons CO2e)                         0.6  \n",
       "Metered Areas (Energy)                                            0.5  \n",
       "DOF Benchmarking Submission Status                                0.3  \n",
       "NYC Borough, Block and Lot (BBL) self-reported                    0.1  \n",
       "BBL - 10 digits                                                   0.1  \n",
       "Largest Property Use Type - Gross Floor Area (ft²)                0.0  \n",
       "Largest Property Use Type                                         0.0  "
      ]
     },
     "execution_count": 97,
     "metadata": {},
     "output_type": "execute_result"
    }
   ],
   "source": [
    "missing_values_table(df)"
   ]
  },
  {
   "cell_type": "code",
   "execution_count": 98,
   "metadata": {},
   "outputs": [
    {
     "name": "stdout",
     "output_type": "stream",
     "text": [
      "your data has 55 columns.there are 43 columns has missing values\n",
      " Delete 10 Variable.\n"
     ]
    }
   ],
   "source": [
    "#get missing values > 50% missing\n",
    "missing_df = missing_values_table(df);\n",
    "missing_columns=list(missing_df[missing_df['% of total values'] > 50].index)\n",
    "\n",
    "print(' Delete %d Variable.' %len(missing_columns))"
   ]
  },
  {
   "cell_type": "code",
   "execution_count": 99,
   "metadata": {},
   "outputs": [],
   "source": [
    "#drop columns\n",
    "df=df.drop(columns=list(missing_columns))"
   ]
  },
  {
   "cell_type": "code",
   "execution_count": 100,
   "metadata": {},
   "outputs": [],
   "source": [
    "df.dropna(inplace=True)"
   ]
  },
  {
   "cell_type": "code",
   "execution_count": 101,
   "metadata": {},
   "outputs": [
    {
     "data": {
      "text/plain": [
       "Series([], dtype: int64)"
      ]
     },
     "execution_count": 101,
     "metadata": {},
     "output_type": "execute_result"
    }
   ],
   "source": [
    "nulls = df.isnull().sum()\n",
    "nulls[nulls > 0]"
   ]
  },
  {
   "cell_type": "markdown",
   "metadata": {},
   "source": [
    "#### categorical variables"
   ]
  },
  {
   "cell_type": "code",
   "execution_count": 102,
   "metadata": {},
   "outputs": [
    {
     "name": "stdout",
     "output_type": "stream",
     "text": [
      "There are 16 categorical variables\n"
     ]
    }
   ],
   "source": [
    "# find categorical variables\n",
    "categorical = [var for var in df.columns if df[var].dtype=='O']\n",
    "print('There are {} categorical variables'.format(len(categorical)))"
   ]
  },
  {
   "cell_type": "markdown",
   "metadata": {},
   "source": [
    "#### Numerical variables"
   ]
  },
  {
   "cell_type": "code",
   "execution_count": 103,
   "metadata": {},
   "outputs": [
    {
     "name": "stdout",
     "output_type": "stream",
     "text": [
      "There are 29 numerical variables\n"
     ]
    }
   ],
   "source": [
    "# find numerical variables\n",
    "numerical = [var for var in df.columns if df[var].dtype!='O']\n",
    "print('There are {} numerical variables'.format(len(numerical)))"
   ]
  },
  {
   "cell_type": "code",
   "execution_count": 104,
   "metadata": {},
   "outputs": [
    {
     "data": {
      "text/plain": [
       "Index(['Property Name', 'Parent Property Id', 'Parent Property Name',\n",
       "       'BBL - 10 digits', 'NYC Borough, Block and Lot (BBL) self-reported',\n",
       "       'NYC Building Identification Number (BIN)', 'Borough',\n",
       "       'Primary Property Type - Self Selected',\n",
       "       'List of All Property Use Types at Property',\n",
       "       'Largest Property Use Type', 'Metered Areas (Energy)',\n",
       "       'Metered Areas  (Water)', 'Release Date', 'Water Required?',\n",
       "       'DOF Benchmarking Submission Status', 'NTA'],\n",
       "      dtype='object')"
      ]
     },
     "execution_count": 104,
     "metadata": {},
     "output_type": "execute_result"
    }
   ],
   "source": [
    "df[categorical].columns"
   ]
  },
  {
   "cell_type": "markdown",
   "metadata": {},
   "source": [
    "# One hot encoding"
   ]
  },
  {
   "cell_type": "code",
   "execution_count": 105,
   "metadata": {},
   "outputs": [],
   "source": [
    "cat=['Property Name', 'Parent Property Id', 'Parent Property Name',\n",
    "       'BBL - 10 digits', 'NYC Borough, Block and Lot (BBL) self-reported',\n",
    "       'NYC Building Identification Number (BIN)', 'Borough',\n",
    "       'Primary Property Type - Self Selected',\n",
    "       'List of All Property Use Types at Property',\n",
    "       'Largest Property Use Type', 'Metered Areas (Energy)',\n",
    "       'Metered Areas  (Water)', 'Release Date', 'Water Required?',\n",
    "       'DOF Benchmarking Submission Status', 'NTA']"
   ]
  },
  {
   "cell_type": "code",
   "execution_count": 106,
   "metadata": {},
   "outputs": [
    {
     "data": {
      "text/plain": [
       "Order                                                           int64\n",
       "Property Id                                                     int64\n",
       "Property Name                                                   int32\n",
       "Parent Property Id                                              int32\n",
       "Parent Property Name                                            int32\n",
       "BBL - 10 digits                                                 int32\n",
       "NYC Borough, Block and Lot (BBL) self-reported                  int32\n",
       "NYC Building Identification Number (BIN)                        int32\n",
       "Borough                                                         int32\n",
       "DOF Gross Floor Area                                          float64\n",
       "Primary Property Type - Self Selected                           int32\n",
       "List of All Property Use Types at Property                      int32\n",
       "Largest Property Use Type                                       int32\n",
       "Largest Property Use Type - Gross Floor Area (ft²)            float64\n",
       "Year Built                                                      int64\n",
       "Number of Buildings - Self-reported                             int64\n",
       "Occupancy                                                       int64\n",
       "Metered Areas (Energy)                                          int32\n",
       "Metered Areas  (Water)                                          int32\n",
       "ENERGY_Score                                                  float64\n",
       "Site EUI (kBtu/ft²)                                           float64\n",
       "Weather Normalized Site EUI (kBtu/ft²)                        float64\n",
       "Weather Normalized Site Electricity Intensity (kWh/ft²)       float64\n",
       "Weather Normalized Site Natural Gas Intensity (therms/ft²)    float64\n",
       "Weather Normalized Source EUI (kBtu/ft²)                      float64\n",
       "Natural Gas Use (kBtu)                                        float64\n",
       "Weather Normalized Site Natural Gas Use (therms)              float64\n",
       "Electricity Use - Grid Purchase (kBtu)                        float64\n",
       "Weather Normalized Site Electricity (kWh)                     float64\n",
       "Total GHG Emissions (Metric Tons CO2e)                        float64\n",
       "Direct GHG Emissions (Metric Tons CO2e)                       float64\n",
       "Indirect GHG Emissions (Metric Tons CO2e)                     float64\n",
       "Property GFA - Self-Reported (ft²)                            float64\n",
       "Water Use (All Water Sources) (kgal)                          float64\n",
       "Water Intensity (All Water Sources) (gal/ft²)                 float64\n",
       "Source EUI (kBtu/ft²)                                         float64\n",
       "Release Date                                                    int32\n",
       "Water Required?                                                 int32\n",
       "DOF Benchmarking Submission Status                              int32\n",
       "Latitude                                                      float64\n",
       "Longitude                                                     float64\n",
       "Community Board                                               float64\n",
       "Council District                                              float64\n",
       "Census Tract                                                  float64\n",
       "NTA                                                             int32\n",
       "dtype: object"
      ]
     },
     "execution_count": 106,
     "metadata": {},
     "output_type": "execute_result"
    }
   ],
   "source": [
    "from sklearn import preprocessing\n",
    "le =preprocessing.LabelEncoder()\n",
    "for var in cat:\n",
    "    le = preprocessing.LabelEncoder()\n",
    "    df[var]=le.fit_transform(df[var].astype('str'))\n",
    "df.dtypes"
   ]
  },
  {
   "cell_type": "code",
   "execution_count": 107,
   "metadata": {},
   "outputs": [],
   "source": [
    "#df['ENERGY_Score'].fillna(df['ENERGY_Score'].mean(), inplace = True)\n",
    "#df = (df,columns=['ENERGY_Score'])\n",
    "#df[['ENERGY_Score']].apply(pd.Series.round)"
   ]
  },
  {
   "cell_type": "code",
   "execution_count": 108,
   "metadata": {},
   "outputs": [
    {
     "data": {
      "text/plain": [
       "Index(['Order', 'Property Id', 'DOF Gross Floor Area',\n",
       "       'Largest Property Use Type - Gross Floor Area (ft²)', 'Year Built',\n",
       "       'Number of Buildings - Self-reported', 'Occupancy', 'ENERGY_Score',\n",
       "       'Site EUI (kBtu/ft²)', 'Weather Normalized Site EUI (kBtu/ft²)',\n",
       "       'Weather Normalized Site Electricity Intensity (kWh/ft²)',\n",
       "       'Weather Normalized Site Natural Gas Intensity (therms/ft²)',\n",
       "       'Weather Normalized Source EUI (kBtu/ft²)', 'Natural Gas Use (kBtu)',\n",
       "       'Weather Normalized Site Natural Gas Use (therms)',\n",
       "       'Electricity Use - Grid Purchase (kBtu)',\n",
       "       'Weather Normalized Site Electricity (kWh)',\n",
       "       'Total GHG Emissions (Metric Tons CO2e)',\n",
       "       'Direct GHG Emissions (Metric Tons CO2e)',\n",
       "       'Indirect GHG Emissions (Metric Tons CO2e)',\n",
       "       'Property GFA - Self-Reported (ft²)',\n",
       "       'Water Use (All Water Sources) (kgal)',\n",
       "       'Water Intensity (All Water Sources) (gal/ft²)',\n",
       "       'Source EUI (kBtu/ft²)', 'Latitude', 'Longitude', 'Community Board',\n",
       "       'Council District', 'Census Tract'],\n",
       "      dtype='object')"
      ]
     },
     "execution_count": 108,
     "metadata": {},
     "output_type": "execute_result"
    }
   ],
   "source": [
    "df[numerical].columns"
   ]
  },
  {
   "cell_type": "markdown",
   "metadata": {},
   "source": [
    "# Renaming Columns if Required"
   ]
  },
  {
   "cell_type": "code",
   "execution_count": 109,
   "metadata": {},
   "outputs": [
    {
     "data": {
      "text/plain": [
       "Index(['Order', 'Property Id', 'Property Name', 'Parent Property Id',\n",
       "       'Parent Property Name', 'BBL - 10 digits',\n",
       "       'NYC Borough, Block and Lot (BBL) self-reported',\n",
       "       'NYC Building Identification Number (BIN)', 'Borough',\n",
       "       'DOF Gross Floor Area', 'Primary Property Type - Self Selected',\n",
       "       'List of All Property Use Types at Property',\n",
       "       'Largest Property Use Type',\n",
       "       'Largest Property Use Type - Gross Floor Area (ft²)', 'Year Built',\n",
       "       'Number of Buildings - Self-reported', 'Occupancy',\n",
       "       'Metered Areas (Energy)', 'Metered Areas  (Water)', 'ENERGY_Score',\n",
       "       'Site EUI (kBtu/ft²)', 'Weather Normalized Site EUI (kBtu/ft²)',\n",
       "       'Weather Normalized Site Electricity Intensity (kWh/ft²)',\n",
       "       'Weather Normalized Site Natural Gas Intensity (therms/ft²)',\n",
       "       'Weather Normalized Source EUI (kBtu/ft²)', 'Natural Gas Use (kBtu)',\n",
       "       'Weather Normalized Site Natural Gas Use (therms)',\n",
       "       'Electricity Use - Grid Purchase (kBtu)',\n",
       "       'Weather Normalized Site Electricity (kWh)',\n",
       "       'Total GHG Emissions (Metric Tons CO2e)',\n",
       "       'Direct GHG Emissions (Metric Tons CO2e)',\n",
       "       'Indirect GHG Emissions (Metric Tons CO2e)',\n",
       "       'Property GFA - Self-Reported (ft²)',\n",
       "       'Water Use (All Water Sources) (kgal)',\n",
       "       'Water Intensity (All Water Sources) (gal/ft²)',\n",
       "       'Source EUI (kBtu/ft²)', 'Release Date', 'Water Required?',\n",
       "       'DOF Benchmarking Submission Status', 'Latitude', 'Longitude',\n",
       "       'Community Board', 'Council District', 'Census Tract', 'NTA'],\n",
       "      dtype='object')"
      ]
     },
     "execution_count": 109,
     "metadata": {},
     "output_type": "execute_result"
    }
   ],
   "source": [
    "'''df.rename(columns = {'NYC Borough, Block and Lot (BBL) self-reported':'BBL',\n",
    "           'NYC Building Identification Number (BIN)':'BIN',\n",
    "        'List of All Property Use Types at Property': 'List_Property_USE_TYPE',\n",
    "           'DOF Benchmarking Submission Status':'Benchmark status','Metered Areas (Energy)': 'Metered Energy',\n",
    "       'Metered Areas  (Water)': 'Metered Water','Primary Property Type - Self Selected': 'Primary Property Type',\n",
    "           \n",
    "       'Largest Property Use Type - Gross Floor Area (ft²)':'Property_Gross Floor Area', \n",
    "       'Number of Buildings - Self-reported':'No of Buildings',  'ENERGY STAR Score': 'Score',\n",
    "       'Site EUI (kBtu/ft²)': 'Site EUI', 'Weather Normalized Site EUI (kBtu/ft²)': 'Weather_Site EUI',\n",
    "       'Weather Normalized Site Electricity Intensity (kWh/ft²)': 'Electricity Intensity',\n",
    "       'Weather Normalized Site Natural Gas Intensity (therms/ft²)': 'Natural Gas Intensity',\n",
    "       'Weather Normalized Source EUI (kBtu/ft²)':'Source EUI' , \n",
    "       'Weather Normalized Site Natural Gas Use (therms)':'Natural Gas Use (therms)',\n",
    "       'Electricity Use - Grid Purchase (kBtu)': 'Electricity Use',\n",
    "       'Weather Normalized Site Electricity (kWh)':'Site Electricity (kWh)',\n",
    "       'Total GHG Emissions (Metric Tons CO2e)': 'Total GHG Emission',\n",
    "       'Direct GHG Emissions (Metric Tons CO2e)':'Direct GHG Emission',\n",
    "       'Indirect GHG Emissions (Metric Tons CO2e)': 'Indirect GHG Emissions',\n",
    "       'Property GFA - Self-Reported (ft²)':'Property GFA',\n",
    "       'Water Use (All Water Sources) (kgal)':'Water Use',\n",
    "       'Water Intensity (All Water Sources) (gal/ft²)': 'Water Intensity',\n",
    "       'Source EUI (kBtu/ft²)':'Source EUI'}, inplace = True)'''\n",
    "   \n",
    "\n",
    "\n",
    "\n",
    "df.columns"
   ]
  },
  {
   "cell_type": "code",
   "execution_count": 110,
   "metadata": {},
   "outputs": [
    {
     "data": {
      "text/plain": [
       "Order                                                           int64\n",
       "Property Id                                                     int64\n",
       "Property Name                                                   int32\n",
       "Parent Property Id                                              int32\n",
       "Parent Property Name                                            int32\n",
       "BBL - 10 digits                                                 int32\n",
       "NYC Borough, Block and Lot (BBL) self-reported                  int32\n",
       "NYC Building Identification Number (BIN)                        int32\n",
       "Borough                                                         int32\n",
       "DOF Gross Floor Area                                          float64\n",
       "Primary Property Type - Self Selected                           int32\n",
       "List of All Property Use Types at Property                      int32\n",
       "Largest Property Use Type                                       int32\n",
       "Largest Property Use Type - Gross Floor Area (ft²)            float64\n",
       "Year Built                                                      int64\n",
       "Number of Buildings - Self-reported                             int64\n",
       "Occupancy                                                       int64\n",
       "Metered Areas (Energy)                                          int32\n",
       "Metered Areas  (Water)                                          int32\n",
       "ENERGY_Score                                                  float64\n",
       "Site EUI (kBtu/ft²)                                           float64\n",
       "Weather Normalized Site EUI (kBtu/ft²)                        float64\n",
       "Weather Normalized Site Electricity Intensity (kWh/ft²)       float64\n",
       "Weather Normalized Site Natural Gas Intensity (therms/ft²)    float64\n",
       "Weather Normalized Source EUI (kBtu/ft²)                      float64\n",
       "Natural Gas Use (kBtu)                                        float64\n",
       "Weather Normalized Site Natural Gas Use (therms)              float64\n",
       "Electricity Use - Grid Purchase (kBtu)                        float64\n",
       "Weather Normalized Site Electricity (kWh)                     float64\n",
       "Total GHG Emissions (Metric Tons CO2e)                        float64\n",
       "Direct GHG Emissions (Metric Tons CO2e)                       float64\n",
       "Indirect GHG Emissions (Metric Tons CO2e)                     float64\n",
       "Property GFA - Self-Reported (ft²)                            float64\n",
       "Water Use (All Water Sources) (kgal)                          float64\n",
       "Water Intensity (All Water Sources) (gal/ft²)                 float64\n",
       "Source EUI (kBtu/ft²)                                         float64\n",
       "Release Date                                                    int32\n",
       "Water Required?                                                 int32\n",
       "DOF Benchmarking Submission Status                              int32\n",
       "Latitude                                                      float64\n",
       "Longitude                                                     float64\n",
       "Community Board                                               float64\n",
       "Council District                                              float64\n",
       "Census Tract                                                  float64\n",
       "NTA                                                             int32\n",
       "dtype: object"
      ]
     },
     "execution_count": 110,
     "metadata": {},
     "output_type": "execute_result"
    }
   ],
   "source": [
    "df.dtypes"
   ]
  },
  {
   "cell_type": "code",
   "execution_count": 111,
   "metadata": {},
   "outputs": [
    {
     "data": {
      "image/png": "[encoded data removed]",
      "text/plain": [
       "<Figure size 432x288 with 1 Axes>"
      ]
     },
     "metadata": {
      "needs_background": "light"
     },
     "output_type": "display_data"
    }
   ],
   "source": [
    "#Distribution of Energy Star Scores\n",
    "\n",
    "# Histogram of Energy Star Scores with 100 bins\n",
    "plt.hist(df['ENERGY_Score'].dropna(), bins = 100);\n",
    "plt.title('Energy Star Score Distribution');\n",
    "plt.xlabel('Score'); plt.ylabel('Count');\n"
   ]
  },
  {
   "cell_type": "code",
   "execution_count": 112,
   "metadata": {},
   "outputs": [
    {
     "data": {
      "text/plain": [
       "Text(0.5, 1.0, 'Energy Star Score Distribution')"
      ]
     },
     "execution_count": 112,
     "metadata": {},
     "output_type": "execute_result"
    },
    {
     "data": {
      "image/png": "[encoded data removed]",
      "text/plain": [
       "<Figure size 432x288 with 1 Axes>"
      ]
     },
     "metadata": {},
     "output_type": "display_data"
    }
   ],
   "source": [
    "\n",
    "# Histogram for the Energy Star Score\n",
    "plt.style.use('fivethirtyeight')\n",
    "plt.hist(df['ENERGY_Score'].dropna(), bins = 100, edgecolor = 'k')\n",
    "plt.xlabel('Score')\n",
    "plt.ylabel('Number of buildings')\n",
    "plt.title('Energy Star Score Distribution')"
   ]
  },
  {
   "cell_type": "code",
   "execution_count": 113,
   "metadata": {},
   "outputs": [],
   "source": [
    "# dropping column with all null values \n",
    "#df.dropna(axis = 1, how ='all', inplace = True) "
   ]
  },
  {
   "cell_type": "code",
   "execution_count": 114,
   "metadata": {},
   "outputs": [
    {
     "data": {
      "text/plain": [
       "array([  1.,  81.,   3., 100.,  66.,  14.,  98.,  64.,   8.,  84.,  76.,\n",
       "        90.,  79.,  54.,  26.,  80.,  86.,  73.,  46.,  68.,  16.,  10.,\n",
       "        88.,  71.,  89.,  58.,  24.,  93.,  67.,  32.,   4.,   5.,  62.,\n",
       "        27.,  23.,   6.,  17.,  18.,  95.,  31.,  87.,  28.,  12.,  72.,\n",
       "        36.,  45.,  11.,  75.,  39.,  63.,  21.,   2.,  91.,  47.,  29.,\n",
       "        35.,  57.,  83.,  38.,  94.,  78.,  56.,  61.,  19.,  77.,  65.,\n",
       "        48.,  60.,  59.,   7.,  85.,  34.,  37.,  49.,  74.,  99.,  82.,\n",
       "        15.,  92.,  44.,  53.,  55.,   9.,  13.,  25.,  33.,  41.,  43.,\n",
       "        96.,  69.,  30.,  20.,  70.,  40.,  42.,  51.,  50.,  52.,  22.,\n",
       "        97.])"
      ]
     },
     "execution_count": 114,
     "metadata": {},
     "output_type": "execute_result"
    }
   ],
   "source": [
    "#Shows unique Scores\n",
    "df.ENERGY_Score.unique()"
   ]
  },
  {
   "cell_type": "code",
   "execution_count": 115,
   "metadata": {},
   "outputs": [
    {
     "data": {
      "text/plain": [
       "Order                                                           int64\n",
       "Property Id                                                     int64\n",
       "Property Name                                                   int32\n",
       "Parent Property Id                                              int32\n",
       "Parent Property Name                                            int32\n",
       "BBL - 10 digits                                                 int32\n",
       "NYC Borough, Block and Lot (BBL) self-reported                  int32\n",
       "NYC Building Identification Number (BIN)                        int32\n",
       "Borough                                                         int32\n",
       "DOF Gross Floor Area                                          float64\n",
       "Primary Property Type - Self Selected                           int32\n",
       "List of All Property Use Types at Property                      int32\n",
       "Largest Property Use Type                                       int32\n",
       "Largest Property Use Type - Gross Floor Area (ft²)            float64\n",
       "Year Built                                                      int64\n",
       "Number of Buildings - Self-reported                             int64\n",
       "Occupancy                                                       int64\n",
       "Metered Areas (Energy)                                          int32\n",
       "Metered Areas  (Water)                                          int32\n",
       "ENERGY_Score                                                  float64\n",
       "Site EUI (kBtu/ft²)                                           float64\n",
       "Weather Normalized Site EUI (kBtu/ft²)                        float64\n",
       "Weather Normalized Site Electricity Intensity (kWh/ft²)       float64\n",
       "Weather Normalized Site Natural Gas Intensity (therms/ft²)    float64\n",
       "Weather Normalized Source EUI (kBtu/ft²)                      float64\n",
       "Natural Gas Use (kBtu)                                        float64\n",
       "Weather Normalized Site Natural Gas Use (therms)              float64\n",
       "Electricity Use - Grid Purchase (kBtu)                        float64\n",
       "Weather Normalized Site Electricity (kWh)                     float64\n",
       "Total GHG Emissions (Metric Tons CO2e)                        float64\n",
       "Direct GHG Emissions (Metric Tons CO2e)                       float64\n",
       "Indirect GHG Emissions (Metric Tons CO2e)                     float64\n",
       "Property GFA - Self-Reported (ft²)                            float64\n",
       "Water Use (All Water Sources) (kgal)                          float64\n",
       "Water Intensity (All Water Sources) (gal/ft²)                 float64\n",
       "Source EUI (kBtu/ft²)                                         float64\n",
       "Release Date                                                    int32\n",
       "Water Required?                                                 int32\n",
       "DOF Benchmarking Submission Status                              int32\n",
       "Latitude                                                      float64\n",
       "Longitude                                                     float64\n",
       "Community Board                                               float64\n",
       "Council District                                              float64\n",
       "Census Tract                                                  float64\n",
       "NTA                                                             int32\n",
       "dtype: object"
      ]
     },
     "execution_count": 115,
     "metadata": {},
     "output_type": "execute_result"
    }
   ],
   "source": [
    "df.dtypes"
   ]
  },
  {
   "cell_type": "code",
   "execution_count": 116,
   "metadata": {},
   "outputs": [],
   "source": [
    "#internal ipython tool for setting figsize\n",
    "from IPython.core.pylabtools import figsize"
   ]
  },
  {
   "cell_type": "code",
   "execution_count": 117,
   "metadata": {},
   "outputs": [
    {
     "data": {
      "text/plain": [
       "Text(0.5, 1.0, 'Site EUI Distribution')"
      ]
     },
     "execution_count": 117,
     "metadata": {},
     "output_type": "execute_result"
    },
    {
     "data": {
      "image/png": "[encoded data removed]",
      "text/plain": [
       "<Figure size 576x576 with 1 Axes>"
      ]
     },
     "metadata": {},
     "output_type": "display_data"
    }
   ],
   "source": [
    "# Histogram Plot of Site EUI\n",
    "figsize(8, 8)\n",
    "plt.hist(df['Site EUI (kBtu/ft²)'].dropna(), bins = 20, edgecolor = 'black');\n",
    "plt.xlabel('Site EUI'); \n",
    "plt.ylabel('Count'); plt.title('Site EUI Distribution')"
   ]
  },
  {
   "cell_type": "code",
   "execution_count": 118,
   "metadata": {},
   "outputs": [
    {
     "data": {
      "text/plain": [
       "count    2980.000000\n",
       "mean       83.846678\n",
       "std        35.896414\n",
       "min         4.000000\n",
       "25%        65.675000\n",
       "50%        79.100000\n",
       "75%        96.700000\n",
       "max       555.800000\n",
       "Name: Site EUI (kBtu/ft²), dtype: float64"
      ]
     },
     "execution_count": 118,
     "metadata": {},
     "output_type": "execute_result"
    }
   ],
   "source": [
    "df['Site EUI (kBtu/ft²)'].describe()"
   ]
  },
  {
   "cell_type": "code",
   "execution_count": 119,
   "metadata": {},
   "outputs": [
    {
     "data": {
      "text/plain": [
       "11648    260.9\n",
       "1558     292.9\n",
       "6929     303.7\n",
       "11444    311.5\n",
       "1639     313.3\n",
       "7967     326.9\n",
       "11646    329.1\n",
       "148      388.3\n",
       "3085     424.7\n",
       "99       555.8\n",
       "Name: Site EUI (kBtu/ft²), dtype: float64"
      ]
     },
     "execution_count": 119,
     "metadata": {},
     "output_type": "execute_result"
    }
   ],
   "source": [
    "# No outliers\n",
    "df['Site EUI (kBtu/ft²)'].dropna().sort_values().tail(10)"
   ]
  },
  {
   "cell_type": "code",
   "execution_count": 120,
   "metadata": {},
   "outputs": [
    {
     "data": {
      "image/png": "[encoded data removed]",
      "text/plain": [
       "<Figure size 720x720 with 1 Axes>"
      ]
     },
     "metadata": {},
     "output_type": "display_data"
    }
   ],
   "source": [
    "figsize(10, 10)\n",
    "# Histogram of the Energy Star Score\n",
    "plt.style.use('fivethirtyeight')\n",
    "plt.hist(df['ENERGY_Score'].dropna(), bins = 100, edgecolor = 'k');\n",
    "plt.xlabel('ENERGY_Score'); plt.ylabel('Number of Buildings'); \n",
    "plt.title('Energy Star Score Distribution');"
   ]
  },
  {
   "cell_type": "code",
   "execution_count": 121,
   "metadata": {},
   "outputs": [
    {
     "data": {
      "image/png": "[encoded data removed]",
      "text/plain": [
       "<Figure size 720x720 with 1 Axes>"
      ]
     },
     "metadata": {},
     "output_type": "display_data"
    }
   ],
   "source": [
    "\n",
    "plt.hist(df['Natural Gas Use (kBtu)'], bins=15, color='green')\n",
    "plt.title('Natural Gas Use (kBtu)')\n",
    "plt.xlabel(\"Natural Gas Use (kBtu)\")\n",
    "plt.show()\n"
   ]
  },
  {
   "cell_type": "code",
   "execution_count": 122,
   "metadata": {},
   "outputs": [
    {
     "data": {
      "text/plain": [
       "count    2.980000e+03\n",
       "mean     5.440018e+06\n",
       "std      8.612458e+06\n",
       "min      0.000000e+00\n",
       "25%      8.348870e+05\n",
       "50%      3.904706e+06\n",
       "75%      6.262078e+06\n",
       "max      1.250000e+08\n",
       "Name: Natural Gas Use (kBtu), dtype: float64"
      ]
     },
     "execution_count": 122,
     "metadata": {},
     "output_type": "execute_result"
    }
   ],
   "source": [
    "df['Natural Gas Use (kBtu)'].describe()"
   ]
  },
  {
   "cell_type": "code",
   "execution_count": 123,
   "metadata": {},
   "outputs": [
    {
     "data": {
      "text/plain": [
       "7211     75800000.0\n",
       "5575     77700000.0\n",
       "4886     79400000.0\n",
       "3246     82529240.0\n",
       "2313     82927866.0\n",
       "2312     86700000.0\n",
       "3602     90300000.0\n",
       "2361     98046006.0\n",
       "8209    117000000.0\n",
       "2375    125000000.0\n",
       "Name: Natural Gas Use (kBtu), dtype: float64"
      ]
     },
     "execution_count": 123,
     "metadata": {},
     "output_type": "execute_result"
    }
   ],
   "source": [
    "df['Natural Gas Use (kBtu)'].dropna().sort_values().tail(10)"
   ]
  },
  {
   "cell_type": "code",
   "execution_count": 124,
   "metadata": {},
   "outputs": [
    {
     "data": {
      "text/html": [
       "<div>\n",
       "<style scoped>\n",
       "    .dataframe tbody tr th:only-of-type {\n",
       "        vertical-align: middle;\n",
       "    }\n",
       "\n",
       "    .dataframe tbody tr th {\n",
       "        vertical-align: top;\n",
       "    }\n",
       "\n",
       "    .dataframe thead th {\n",
       "        text-align: right;\n",
       "    }\n",
       "</style>\n",
       "<table border=\"1\" class=\"dataframe\">\n",
       "  <thead>\n",
       "    <tr style=\"text-align: right;\">\n",
       "      <th></th>\n",
       "      <th>Order</th>\n",
       "      <th>Property Id</th>\n",
       "      <th>Property Name</th>\n",
       "      <th>Parent Property Id</th>\n",
       "      <th>Parent Property Name</th>\n",
       "      <th>BBL - 10 digits</th>\n",
       "      <th>NYC Borough, Block and Lot (BBL) self-reported</th>\n",
       "      <th>NYC Building Identification Number (BIN)</th>\n",
       "      <th>Borough</th>\n",
       "      <th>DOF Gross Floor Area</th>\n",
       "      <th>...</th>\n",
       "      <th>Source EUI (kBtu/ft²)</th>\n",
       "      <th>Release Date</th>\n",
       "      <th>Water Required?</th>\n",
       "      <th>DOF Benchmarking Submission Status</th>\n",
       "      <th>Latitude</th>\n",
       "      <th>Longitude</th>\n",
       "      <th>Community Board</th>\n",
       "      <th>Council District</th>\n",
       "      <th>Census Tract</th>\n",
       "      <th>NTA</th>\n",
       "    </tr>\n",
       "  </thead>\n",
       "  <tbody>\n",
       "    <tr>\n",
       "      <th>2375</th>\n",
       "      <td>2778</td>\n",
       "      <td>3351449</td>\n",
       "      <td>1061</td>\n",
       "      <td>8</td>\n",
       "      <td>6</td>\n",
       "      <td>546</td>\n",
       "      <td>368</td>\n",
       "      <td>428</td>\n",
       "      <td>2</td>\n",
       "      <td>1800000.0</td>\n",
       "      <td>...</td>\n",
       "      <td>296.5</td>\n",
       "      <td>238</td>\n",
       "      <td>1</td>\n",
       "      <td>0</td>\n",
       "      <td>40.758267</td>\n",
       "      <td>-73.985468</td>\n",
       "      <td>5.0</td>\n",
       "      <td>3.0</td>\n",
       "      <td>119.0</td>\n",
       "      <td>72</td>\n",
       "    </tr>\n",
       "  </tbody>\n",
       "</table>\n",
       "<p>1 rows × 45 columns</p>\n",
       "</div>"
      ],
      "text/plain": [
       "      Order  Property Id  Property Name  Parent Property Id  \\\n",
       "2375   2778      3351449           1061                   8   \n",
       "\n",
       "      Parent Property Name  BBL - 10 digits  \\\n",
       "2375                     6              546   \n",
       "\n",
       "      NYC Borough, Block and Lot (BBL) self-reported  \\\n",
       "2375                                             368   \n",
       "\n",
       "      NYC Building Identification Number (BIN)  Borough  DOF Gross Floor Area  \\\n",
       "2375                                       428        2             1800000.0   \n",
       "\n",
       "      ...  Source EUI (kBtu/ft²)  Release Date  Water Required?  \\\n",
       "2375  ...                  296.5           238                1   \n",
       "\n",
       "      DOF Benchmarking Submission Status   Latitude  Longitude  \\\n",
       "2375                                   0  40.758267 -73.985468   \n",
       "\n",
       "      Community Board  Council District  Census Tract  NTA  \n",
       "2375              5.0               3.0         119.0   72  \n",
       "\n",
       "[1 rows x 45 columns]"
      ]
     },
     "execution_count": 124,
     "metadata": {},
     "output_type": "execute_result"
    }
   ],
   "source": [
    "df.loc[df['Natural Gas Use (kBtu)'] == 125000000.0,:]"
   ]
  },
  {
   "cell_type": "code",
   "execution_count": 125,
   "metadata": {},
   "outputs": [],
   "source": [
    "# Calculate first and third quartile\n",
    "first_quartile = df['Natural Gas Use (kBtu)'].describe()['25%']\n",
    "third_quartile = df['Natural Gas Use (kBtu)'].describe()['75%']\n",
    "\n",
    "# Interquartile range\n",
    "iqr = third_quartile - first_quartile\n",
    "\n",
    "# Remove outliers\n",
    "df = df[(df['Natural Gas Use (kBtu)'] > (first_quartile - 3 * iqr)) &\n",
    "            (df['Natural Gas Use (kBtu)'] < (third_quartile + 3 * iqr))]"
   ]
  },
  {
   "cell_type": "code",
   "execution_count": 126,
   "metadata": {},
   "outputs": [
    {
     "data": {
      "image/png": "[encoded data removed]",
      "text/plain": [
       "<Figure size 576x576 with 1 Axes>"
      ]
     },
     "metadata": {},
     "output_type": "display_data"
    }
   ],
   "source": [
    "# Histogram Plot of Site EUI\n",
    "figsize(8, 8)\n",
    "plt.hist(df['Natural Gas Use (kBtu)'].dropna(), bins = 20, edgecolor = 'black');\n",
    "plt.xlabel('Natural Gas Use (kBtu)'); \n",
    "plt.ylabel('Count'); plt.title('Natural Gas Use (kBtu)');"
   ]
  },
  {
   "cell_type": "code",
   "execution_count": 127,
   "metadata": {},
   "outputs": [],
   "source": [
    "# Create a list of boroughs with more than 100 observations\n",
    "boroughs = df.dropna(subset=['ENERGY_Score'])\n",
    "boroughs = boroughs['Borough'].value_counts()\n",
    "boroughs = list(boroughs[boroughs.values > 100].index)"
   ]
  },
  {
   "cell_type": "code",
   "execution_count": 128,
   "metadata": {},
   "outputs": [],
   "source": [
    "# Find all correlations with the score and sort \n",
    "correlations_data = df.corr()['ENERGY_Score'].sort_values()"
   ]
  },
  {
   "cell_type": "code",
   "execution_count": 129,
   "metadata": {},
   "outputs": [
    {
     "name": "stdout",
     "output_type": "stream",
     "text": [
      "Weather Normalized Site EUI (kBtu/ft²)                       -0.654185\n",
      "Site EUI (kBtu/ft²)                                          -0.653914\n",
      "Weather Normalized Source EUI (kBtu/ft²)                     -0.563489\n",
      "Source EUI (kBtu/ft²)                                        -0.555998\n",
      "Weather Normalized Site Electricity Intensity (kWh/ft²)      -0.348912\n",
      "Weather Normalized Site Natural Gas Intensity (therms/ft²)   -0.320957\n",
      "Direct GHG Emissions (Metric Tons CO2e)                      -0.266675\n",
      "Natural Gas Use (kBtu)                                       -0.261806\n",
      "Weather Normalized Site Natural Gas Use (therms)             -0.256101\n",
      "Year Built                                                   -0.147401\n",
      "Property Id                                                  -0.119774\n",
      "Total GHG Emissions (Metric Tons CO2e)                       -0.087116\n",
      "Electricity Use - Grid Purchase (kBtu)                       -0.041316\n",
      "Weather Normalized Site Electricity (kWh)                    -0.041095\n",
      "Indirect GHG Emissions (Metric Tons CO2e)                    -0.034924\n",
      "Name: ENERGY_Score, dtype: float64 \n",
      "\n",
      "Parent Property Id                                    0.016946\n",
      "Metered Areas  (Water)                                0.030743\n",
      "DOF Gross Floor Area                                  0.033080\n",
      "Council District                                      0.048644\n",
      "List of All Property Use Types at Property            0.050803\n",
      "Order                                                 0.051918\n",
      "BBL - 10 digits                                       0.054901\n",
      "Property GFA - Self-Reported (ft²)                    0.055834\n",
      "Largest Property Use Type - Gross Floor Area (ft²)    0.058830\n",
      "Community Board                                       0.066932\n",
      "NYC Borough, Block and Lot (BBL) self-reported        0.069318\n",
      "Primary Property Type - Self Selected                 0.075796\n",
      "Largest Property Use Type                             0.090120\n",
      "ENERGY_Score                                          1.000000\n",
      "DOF Benchmarking Submission Status                         NaN\n",
      "Name: ENERGY_Score, dtype: float64\n"
     ]
    }
   ],
   "source": [
    "# Find all correlations and sort \n",
    "correlations_df= df.corr()['ENERGY_Score'].sort_values()\n",
    "\n",
    "# Print the most negative correlations\n",
    "print(correlations_df.head(15), '\\n')\n",
    "\n",
    "# Print the most positive correlations\n",
    "print(correlations_df.tail(15))"
   ]
  },
  {
   "cell_type": "code",
   "execution_count": 131,
   "metadata": {},
   "outputs": [
    {
     "data": {
      "text/plain": [
       "sqrt_Site EUI (kBtu/ft²)                                       -0.678594\n",
       "sqrt_Weather Normalized Site EUI (kBtu/ft²)                    -0.673014\n",
       "Weather Normalized Site EUI (kBtu/ft²)                         -0.654185\n",
       "Site EUI (kBtu/ft²)                                            -0.653914\n",
       "log_Weather Normalized Source EUI (kBtu/ft²)                   -0.639282\n",
       "log_Site EUI (kBtu/ft²)                                        -0.636749\n",
       "log_Source EUI (kBtu/ft²)                                      -0.636280\n",
       "sqrt_Weather Normalized Source EUI (kBtu/ft²)                  -0.630349\n",
       "log_Weather Normalized Site EUI (kBtu/ft²)                     -0.628100\n",
       "sqrt_Source EUI (kBtu/ft²)                                     -0.624651\n",
       "Weather Normalized Source EUI (kBtu/ft²)                       -0.563489\n",
       "Source EUI (kBtu/ft²)                                          -0.555998\n",
       "log_Weather Normalized Site Electricity Intensity (kWh/ft²)    -0.437974\n",
       "sqrt_Weather Normalized Site Electricity Intensity (kWh/ft²)   -0.408444\n",
       "Weather Normalized Site Electricity Intensity (kWh/ft²)        -0.348912\n",
       "Name: ENERGY_Score, dtype: float64"
      ]
     },
     "execution_count": 131,
     "metadata": {},
     "output_type": "execute_result"
    }
   ],
   "source": [
    "# Display most negative correlations\n",
    "correlations.head(15)\n"
   ]
  },
  {
   "cell_type": "code",
   "execution_count": 136,
   "metadata": {},
   "outputs": [
    {
     "data": {
      "text/plain": [
       "(2889, 45)"
      ]
     },
     "execution_count": 136,
     "metadata": {},
     "output_type": "execute_result"
    }
   ],
   "source": [
    "df.shape"
   ]
  },
  {
   "cell_type": "code",
   "execution_count": 138,
   "metadata": {},
   "outputs": [
    {
     "data": {
      "text/plain": [
       "<matplotlib.axes._subplots.AxesSubplot at 0x203855a3f08>"
      ]
     },
     "execution_count": 138,
     "metadata": {},
     "output_type": "execute_result"
    },
    {
     "data": {
      "image/png": "[encoded data removed]",
      "text/plain": [
       "<Figure size 576x576 with 2 Axes>"
      ]
     },
     "metadata": {},
     "output_type": "display_data"
    }
   ],
   "source": [
    "#plot the above correlation result\n",
    "sns.heatmap(df.corr()) "
   ]
  },
  {
   "cell_type": "code",
   "execution_count": 139,
   "metadata": {},
   "outputs": [
    {
     "data": {
      "image/png": "[encoded data removed]",
      "text/plain": [
       "<Figure size 576x576 with 1 Axes>"
      ]
     },
     "metadata": {},
     "output_type": "display_data"
    }
   ],
   "source": [
    "plot_df = df[['Weather Normalized Site EUI (kBtu/ft²)', 'Site EUI (kBtu/ft²)']].dropna()\n",
    "\n",
    "plt.plot(plot_df['Site EUI (kBtu/ft²)'], plot_df['Weather Normalized Site EUI (kBtu/ft²)'], 'bo')\n",
    "plt.xlabel('Site EUI'); plt.ylabel('Weather Norm EUI')\n",
    "plt.title('Weather Norm EUI vs Site EUI, R = %0.4f' % np.corrcoef(df[['Weather Normalized Site EUI (kBtu/ft²)', 'Site EUI (kBtu/ft²)']].dropna(), rowvar=False)[0][1]);"
   ]
  },
  {
   "cell_type": "code",
   "execution_count": 140,
   "metadata": {},
   "outputs": [
    {
     "data": {
      "text/plain": [
       "(2889, 45)"
      ]
     },
     "execution_count": 140,
     "metadata": {},
     "output_type": "execute_result"
    }
   ],
   "source": [
    "df.shape"
   ]
  },
  {
   "cell_type": "code",
   "execution_count": 141,
   "metadata": {},
   "outputs": [],
   "source": [
    "df['ENERGY_Score'] = df['ENERGY_Score'].apply(np.int64)"
   ]
  },
  {
   "cell_type": "code",
   "execution_count": 142,
   "metadata": {},
   "outputs": [
    {
     "data": {
      "text/plain": [
       "Order                                                           int64\n",
       "Property Id                                                     int64\n",
       "Property Name                                                   int32\n",
       "Parent Property Id                                              int32\n",
       "Parent Property Name                                            int32\n",
       "BBL - 10 digits                                                 int32\n",
       "NYC Borough, Block and Lot (BBL) self-reported                  int32\n",
       "NYC Building Identification Number (BIN)                        int32\n",
       "Borough                                                         int32\n",
       "DOF Gross Floor Area                                          float64\n",
       "Primary Property Type - Self Selected                           int32\n",
       "List of All Property Use Types at Property                      int32\n",
       "Largest Property Use Type                                       int32\n",
       "Largest Property Use Type - Gross Floor Area (ft²)            float64\n",
       "Year Built                                                      int64\n",
       "Number of Buildings - Self-reported                             int64\n",
       "Occupancy                                                       int64\n",
       "Metered Areas (Energy)                                          int32\n",
       "Metered Areas  (Water)                                          int32\n",
       "ENERGY_Score                                                    int64\n",
       "Site EUI (kBtu/ft²)                                           float64\n",
       "Weather Normalized Site EUI (kBtu/ft²)                        float64\n",
       "Weather Normalized Site Electricity Intensity (kWh/ft²)       float64\n",
       "Weather Normalized Site Natural Gas Intensity (therms/ft²)    float64\n",
       "Weather Normalized Source EUI (kBtu/ft²)                      float64\n",
       "Natural Gas Use (kBtu)                                        float64\n",
       "Weather Normalized Site Natural Gas Use (therms)              float64\n",
       "Electricity Use - Grid Purchase (kBtu)                        float64\n",
       "Weather Normalized Site Electricity (kWh)                     float64\n",
       "Total GHG Emissions (Metric Tons CO2e)                        float64\n",
       "Direct GHG Emissions (Metric Tons CO2e)                       float64\n",
       "Indirect GHG Emissions (Metric Tons CO2e)                     float64\n",
       "Property GFA - Self-Reported (ft²)                            float64\n",
       "Water Use (All Water Sources) (kgal)                          float64\n",
       "Water Intensity (All Water Sources) (gal/ft²)                 float64\n",
       "Source EUI (kBtu/ft²)                                         float64\n",
       "Release Date                                                    int32\n",
       "Water Required?                                                 int32\n",
       "DOF Benchmarking Submission Status                              int32\n",
       "Latitude                                                      float64\n",
       "Longitude                                                     float64\n",
       "Community Board                                               float64\n",
       "Council District                                              float64\n",
       "Census Tract                                                  float64\n",
       "NTA                                                             int32\n",
       "dtype: object"
      ]
     },
     "execution_count": 142,
     "metadata": {},
     "output_type": "execute_result"
    }
   ],
   "source": [
    "df.dtypes"
   ]
  },
  {
   "cell_type": "code",
   "execution_count": 143,
   "metadata": {},
   "outputs": [
    {
     "data": {
      "text/html": [
       "<div>\n",
       "<style scoped>\n",
       "    .dataframe tbody tr th:only-of-type {\n",
       "        vertical-align: middle;\n",
       "    }\n",
       "\n",
       "    .dataframe tbody tr th {\n",
       "        vertical-align: top;\n",
       "    }\n",
       "\n",
       "    .dataframe thead th {\n",
       "        text-align: right;\n",
       "    }\n",
       "</style>\n",
       "<table border=\"1\" class=\"dataframe\">\n",
       "  <thead>\n",
       "    <tr style=\"text-align: right;\">\n",
       "      <th></th>\n",
       "      <th>Order</th>\n",
       "      <th>Property Id</th>\n",
       "      <th>Property Name</th>\n",
       "      <th>Parent Property Id</th>\n",
       "      <th>Parent Property Name</th>\n",
       "      <th>BBL - 10 digits</th>\n",
       "      <th>NYC Borough, Block and Lot (BBL) self-reported</th>\n",
       "      <th>NYC Building Identification Number (BIN)</th>\n",
       "      <th>Borough</th>\n",
       "      <th>DOF Gross Floor Area</th>\n",
       "      <th>...</th>\n",
       "      <th>Source EUI (kBtu/ft²)</th>\n",
       "      <th>Release Date</th>\n",
       "      <th>Water Required?</th>\n",
       "      <th>DOF Benchmarking Submission Status</th>\n",
       "      <th>Latitude</th>\n",
       "      <th>Longitude</th>\n",
       "      <th>Community Board</th>\n",
       "      <th>Council District</th>\n",
       "      <th>Census Tract</th>\n",
       "      <th>NTA</th>\n",
       "    </tr>\n",
       "  </thead>\n",
       "  <tbody>\n",
       "    <tr>\n",
       "      <th>99</th>\n",
       "      <td>102</td>\n",
       "      <td>2605684</td>\n",
       "      <td>2192</td>\n",
       "      <td>0</td>\n",
       "      <td>2</td>\n",
       "      <td>1402</td>\n",
       "      <td>1498</td>\n",
       "      <td>1125</td>\n",
       "      <td>2</td>\n",
       "      <td>230565.0</td>\n",
       "      <td>...</td>\n",
       "      <td>969.0</td>\n",
       "      <td>1093</td>\n",
       "      <td>0</td>\n",
       "      <td>0</td>\n",
       "      <td>40.842476</td>\n",
       "      <td>-73.942863</td>\n",
       "      <td>12.0</td>\n",
       "      <td>10.0</td>\n",
       "      <td>255.0</td>\n",
       "      <td>115</td>\n",
       "    </tr>\n",
       "    <tr>\n",
       "      <th>103</th>\n",
       "      <td>106</td>\n",
       "      <td>2741656</td>\n",
       "      <td>414</td>\n",
       "      <td>0</td>\n",
       "      <td>2</td>\n",
       "      <td>1406</td>\n",
       "      <td>1499</td>\n",
       "      <td>1129</td>\n",
       "      <td>2</td>\n",
       "      <td>84442.0</td>\n",
       "      <td>...</td>\n",
       "      <td>159.6</td>\n",
       "      <td>1093</td>\n",
       "      <td>0</td>\n",
       "      <td>0</td>\n",
       "      <td>40.845958</td>\n",
       "      <td>-73.942539</td>\n",
       "      <td>12.0</td>\n",
       "      <td>10.0</td>\n",
       "      <td>255.0</td>\n",
       "      <td>115</td>\n",
       "    </tr>\n",
       "    <tr>\n",
       "      <th>148</th>\n",
       "      <td>152</td>\n",
       "      <td>2779662</td>\n",
       "      <td>2422</td>\n",
       "      <td>1</td>\n",
       "      <td>5</td>\n",
       "      <td>78</td>\n",
       "      <td>58</td>\n",
       "      <td>53</td>\n",
       "      <td>2</td>\n",
       "      <td>102314.0</td>\n",
       "      <td>...</td>\n",
       "      <td>721.5</td>\n",
       "      <td>1196</td>\n",
       "      <td>1</td>\n",
       "      <td>0</td>\n",
       "      <td>40.732082</td>\n",
       "      <td>-73.985127</td>\n",
       "      <td>3.0</td>\n",
       "      <td>2.0</td>\n",
       "      <td>40.0</td>\n",
       "      <td>39</td>\n",
       "    </tr>\n",
       "    <tr>\n",
       "      <th>161</th>\n",
       "      <td>165</td>\n",
       "      <td>2809891</td>\n",
       "      <td>1242</td>\n",
       "      <td>2</td>\n",
       "      <td>1</td>\n",
       "      <td>1298</td>\n",
       "      <td>1472</td>\n",
       "      <td>1033</td>\n",
       "      <td>2</td>\n",
       "      <td>87979.0</td>\n",
       "      <td>...</td>\n",
       "      <td>26.3</td>\n",
       "      <td>461</td>\n",
       "      <td>1</td>\n",
       "      <td>0</td>\n",
       "      <td>40.809066</td>\n",
       "      <td>-73.959408</td>\n",
       "      <td>9.0</td>\n",
       "      <td>7.0</td>\n",
       "      <td>20701.0</td>\n",
       "      <td>74</td>\n",
       "    </tr>\n",
       "    <tr>\n",
       "      <th>327</th>\n",
       "      <td>336</td>\n",
       "      <td>4994375</td>\n",
       "      <td>2632</td>\n",
       "      <td>5</td>\n",
       "      <td>8</td>\n",
       "      <td>1173</td>\n",
       "      <td>775</td>\n",
       "      <td>944</td>\n",
       "      <td>2</td>\n",
       "      <td>449973.0</td>\n",
       "      <td>...</td>\n",
       "      <td>63.9</td>\n",
       "      <td>1061</td>\n",
       "      <td>1</td>\n",
       "      <td>0</td>\n",
       "      <td>40.815502</td>\n",
       "      <td>-73.935614</td>\n",
       "      <td>11.0</td>\n",
       "      <td>9.0</td>\n",
       "      <td>210.0</td>\n",
       "      <td>34</td>\n",
       "    </tr>\n",
       "  </tbody>\n",
       "</table>\n",
       "<p>5 rows × 45 columns</p>\n",
       "</div>"
      ],
      "text/plain": [
       "     Order  Property Id  Property Name  Parent Property Id  \\\n",
       "99     102      2605684           2192                   0   \n",
       "103    106      2741656            414                   0   \n",
       "148    152      2779662           2422                   1   \n",
       "161    165      2809891           1242                   2   \n",
       "327    336      4994375           2632                   5   \n",
       "\n",
       "     Parent Property Name  BBL - 10 digits  \\\n",
       "99                      2             1402   \n",
       "103                     2             1406   \n",
       "148                     5               78   \n",
       "161                     1             1298   \n",
       "327                     8             1173   \n",
       "\n",
       "     NYC Borough, Block and Lot (BBL) self-reported  \\\n",
       "99                                             1498   \n",
       "103                                            1499   \n",
       "148                                              58   \n",
       "161                                            1472   \n",
       "327                                             775   \n",
       "\n",
       "     NYC Building Identification Number (BIN)  Borough  DOF Gross Floor Area  \\\n",
       "99                                       1125        2              230565.0   \n",
       "103                                      1129        2               84442.0   \n",
       "148                                        53        2              102314.0   \n",
       "161                                      1033        2               87979.0   \n",
       "327                                       944        2              449973.0   \n",
       "\n",
       "     ...  Source EUI (kBtu/ft²)  Release Date  Water Required?  \\\n",
       "99   ...                  969.0          1093                0   \n",
       "103  ...                  159.6          1093                0   \n",
       "148  ...                  721.5          1196                1   \n",
       "161  ...                   26.3           461                1   \n",
       "327  ...                   63.9          1061                1   \n",
       "\n",
       "     DOF Benchmarking Submission Status   Latitude  Longitude  \\\n",
       "99                                    0  40.842476 -73.942863   \n",
       "103                                   0  40.845958 -73.942539   \n",
       "148                                   0  40.732082 -73.985127   \n",
       "161                                   0  40.809066 -73.959408   \n",
       "327                                   0  40.815502 -73.935614   \n",
       "\n",
       "     Community Board  Council District  Census Tract  NTA  \n",
       "99              12.0              10.0         255.0  115  \n",
       "103             12.0              10.0         255.0  115  \n",
       "148              3.0               2.0          40.0   39  \n",
       "161              9.0               7.0       20701.0   74  \n",
       "327             11.0               9.0         210.0   34  \n",
       "\n",
       "[5 rows x 45 columns]"
      ]
     },
     "execution_count": 143,
     "metadata": {},
     "output_type": "execute_result"
    }
   ],
   "source": [
    "df.head()"
   ]
  },
  {
   "cell_type": "code",
   "execution_count": 144,
   "metadata": {},
   "outputs": [
    {
     "data": {
      "text/plain": [
       "1    2864\n",
       "2      19\n",
       "8       2\n",
       "6       2\n",
       "4       2\n",
       "Name: Number of Buildings - Self-reported, dtype: int64"
      ]
     },
     "execution_count": 144,
     "metadata": {},
     "output_type": "execute_result"
    }
   ],
   "source": [
    "df['Number of Buildings - Self-reported'].value_counts()"
   ]
  },
  {
   "cell_type": "markdown",
   "metadata": {},
   "source": [
    "# Splitting Train and Test Data"
   ]
  },
  {
   "cell_type": "code",
   "execution_count": 145,
   "metadata": {},
   "outputs": [],
   "source": [
    "\n",
    "Y=df.ENERGY_Score\n",
    "X=df.drop('ENERGY_Score',axis=1)"
   ]
  },
  {
   "cell_type": "code",
   "execution_count": 146,
   "metadata": {},
   "outputs": [
    {
     "data": {
      "text/plain": [
       "Index(['Order', 'Property Id', 'Property Name', 'Parent Property Id',\n",
       "       'Parent Property Name', 'BBL - 10 digits',\n",
       "       'NYC Borough, Block and Lot (BBL) self-reported',\n",
       "       'NYC Building Identification Number (BIN)', 'Borough',\n",
       "       'DOF Gross Floor Area', 'Primary Property Type - Self Selected',\n",
       "       'List of All Property Use Types at Property',\n",
       "       'Largest Property Use Type',\n",
       "       'Largest Property Use Type - Gross Floor Area (ft²)', 'Year Built',\n",
       "       'Number of Buildings - Self-reported', 'Occupancy',\n",
       "       'Metered Areas (Energy)', 'Metered Areas  (Water)',\n",
       "       'Site EUI (kBtu/ft²)', 'Weather Normalized Site EUI (kBtu/ft²)',\n",
       "       'Weather Normalized Site Electricity Intensity (kWh/ft²)',\n",
       "       'Weather Normalized Site Natural Gas Intensity (therms/ft²)',\n",
       "       'Weather Normalized Source EUI (kBtu/ft²)', 'Natural Gas Use (kBtu)',\n",
       "       'Weather Normalized Site Natural Gas Use (therms)',\n",
       "       'Electricity Use - Grid Purchase (kBtu)',\n",
       "       'Weather Normalized Site Electricity (kWh)',\n",
       "       'Total GHG Emissions (Metric Tons CO2e)',\n",
       "       'Direct GHG Emissions (Metric Tons CO2e)',\n",
       "       'Indirect GHG Emissions (Metric Tons CO2e)',\n",
       "       'Property GFA - Self-Reported (ft²)',\n",
       "       'Water Use (All Water Sources) (kgal)',\n",
       "       'Water Intensity (All Water Sources) (gal/ft²)',\n",
       "       'Source EUI (kBtu/ft²)', 'Release Date', 'Water Required?',\n",
       "       'DOF Benchmarking Submission Status', 'Latitude', 'Longitude',\n",
       "       'Community Board', 'Council District', 'Census Tract', 'NTA'],\n",
       "      dtype='object')"
      ]
     },
     "execution_count": 146,
     "metadata": {},
     "output_type": "execute_result"
    }
   ],
   "source": [
    "X.columns"
   ]
  },
  {
   "cell_type": "code",
   "execution_count": 147,
   "metadata": {},
   "outputs": [],
   "source": [
    "X = df.loc[:,df.columns != 'ENERGY_Score']\n",
    "Y = df.ENERGY_Score\n",
    "\n",
    "feature_names = X.columns\n",
    "\n",
    "X_train, X_test, y_train, y_test = train_test_split(X, Y, test_size=0.3, random_state=0)"
   ]
  },
  {
   "cell_type": "code",
   "execution_count": 148,
   "metadata": {},
   "outputs": [],
   "source": [
    "# Function to calculate mean absolute error\n",
    "def mae(y_true, y_pred):\n",
    "    return np.mean(abs(y_true - y_pred))"
   ]
  },
  {
   "cell_type": "code",
   "execution_count": 149,
   "metadata": {},
   "outputs": [],
   "source": [
    "def mae(y_test,y_pred):\n",
    "    return np.mean(abs(y_test - y_pred ))\n",
    "\n",
    "def fit_and_evaluate(model):\n",
    "    model.fit(X_train,y_train)\n",
    "    y_pred = model.predict(X_test)\n",
    "    model_mae = mae(y_test,y_pred)\n",
    "    return model_mae"
   ]
  },
  {
   "cell_type": "code",
   "execution_count": 150,
   "metadata": {},
   "outputs": [
    {
     "name": "stdout",
     "output_type": "stream",
     "text": [
      "MAE of Linear Regression is 15.7908\n"
     ]
    }
   ],
   "source": [
    "# Applicaiton of Linear Regression\n",
    "from sklearn.linear_model import LinearRegression\n",
    "\n",
    "lr = LinearRegression()\n",
    "lr_mae = fit_and_evaluate(lr)\n",
    "print('MAE of Linear Regression is %0.4f'%lr_mae)"
   ]
  },
  {
   "cell_type": "code",
   "execution_count": 151,
   "metadata": {},
   "outputs": [
    {
     "name": "stdout",
     "output_type": "stream",
     "text": [
      "MAE of SVR is 23.8355\n"
     ]
    }
   ],
   "source": [
    "# Applicaiton of SVR\n",
    "\n",
    "from sklearn.svm import SVR\n",
    "svr = SVR(C=1000, gamma=0.1)\n",
    "\n",
    "svr_mae = fit_and_evaluate(svr)\n",
    "print('MAE of SVR is %0.4f'%svr_mae)"
   ]
  },
  {
   "cell_type": "code",
   "execution_count": 152,
   "metadata": {},
   "outputs": [
    {
     "name": "stderr",
     "output_type": "stream",
     "text": [
      "C:\\Users\\Pavan\\Anaconda3\\lib\\site-packages\\sklearn\\ensemble\\forest.py:245: FutureWarning: The default value of n_estimators will change from 10 in version 0.20 to 100 in 0.22.\n",
      "  \"10 in version 0.20 to 100 in 0.22.\", FutureWarning)\n"
     ]
    },
    {
     "name": "stdout",
     "output_type": "stream",
     "text": [
      "MAE of Random Forest Regression is 9.6946\n"
     ]
    }
   ],
   "source": [
    "# Applicaiton of Random Forest Regression\n",
    "\n",
    "from sklearn.ensemble import RandomForestRegressor\n",
    "rf = RandomForestRegressor(random_state=60)\n",
    "\n",
    "rf_mae = fit_and_evaluate(rf)\n",
    "print('MAE of Random Forest Regression is %0.4f'%rf_mae)"
   ]
  },
  {
   "cell_type": "code",
   "execution_count": 153,
   "metadata": {},
   "outputs": [
    {
     "name": "stdout",
     "output_type": "stream",
     "text": [
      "MAE of Gradiant Boosting is 9.0761\n"
     ]
    }
   ],
   "source": [
    "# Applicaiton of Gradiant Boosting\n",
    "\n",
    "from sklearn.ensemble import GradientBoostingRegressor\n",
    "gb = GradientBoostingRegressor(random_state=60)\n",
    "\n",
    "gb_mae = fit_and_evaluate(gb)\n",
    "print('MAE of Gradiant Boosting is %0.4f'%gb_mae)"
   ]
  },
  {
   "cell_type": "code",
   "execution_count": 154,
   "metadata": {},
   "outputs": [
    {
     "name": "stdout",
     "output_type": "stream",
     "text": [
      "MAE of K-Nearest Neighbors Regression is 21.1801\n"
     ]
    }
   ],
   "source": [
    "# Applicaiton of K-Nearest Neighbors Regression\n",
    "from sklearn.neighbors import KNeighborsRegressor\n",
    "knr = KNeighborsRegressor(n_neighbors=6)\n",
    "knr_mae = fit_and_evaluate(knr)\n",
    "print('MAE of K-Nearest Neighbors Regression is %0.4f'%knr_mae)"
   ]
  },
  {
   "cell_type": "code",
   "execution_count": 155,
   "metadata": {},
   "outputs": [],
   "source": [
    "\n",
    "ml_df = pd.DataFrame({'Model' : ['Linear Regression', 'SVR', 'Random Forest', 'Gradiant Boosting', 'KNN Regression'], \n",
    "                      'Values' : [lr_mae, svr_mae, rf_mae, gb_mae, knr_mae ]})"
   ]
  },
  {
   "cell_type": "code",
   "execution_count": 156,
   "metadata": {},
   "outputs": [
    {
     "data": {
      "text/html": [
       "<div>\n",
       "<style scoped>\n",
       "    .dataframe tbody tr th:only-of-type {\n",
       "        vertical-align: middle;\n",
       "    }\n",
       "\n",
       "    .dataframe tbody tr th {\n",
       "        vertical-align: top;\n",
       "    }\n",
       "\n",
       "    .dataframe thead th {\n",
       "        text-align: right;\n",
       "    }\n",
       "</style>\n",
       "<table border=\"1\" class=\"dataframe\">\n",
       "  <thead>\n",
       "    <tr style=\"text-align: right;\">\n",
       "      <th></th>\n",
       "      <th>Model</th>\n",
       "      <th>Values</th>\n",
       "    </tr>\n",
       "  </thead>\n",
       "  <tbody>\n",
       "    <tr>\n",
       "      <th>3</th>\n",
       "      <td>Gradiant Boosting</td>\n",
       "      <td>9.076072</td>\n",
       "    </tr>\n",
       "    <tr>\n",
       "      <th>2</th>\n",
       "      <td>Random Forest</td>\n",
       "      <td>9.694579</td>\n",
       "    </tr>\n",
       "    <tr>\n",
       "      <th>0</th>\n",
       "      <td>Linear Regression</td>\n",
       "      <td>15.790810</td>\n",
       "    </tr>\n",
       "    <tr>\n",
       "      <th>4</th>\n",
       "      <td>KNN Regression</td>\n",
       "      <td>21.180123</td>\n",
       "    </tr>\n",
       "    <tr>\n",
       "      <th>1</th>\n",
       "      <td>SVR</td>\n",
       "      <td>23.835469</td>\n",
       "    </tr>\n",
       "  </tbody>\n",
       "</table>\n",
       "</div>"
      ],
      "text/plain": [
       "               Model     Values\n",
       "3  Gradiant Boosting   9.076072\n",
       "2      Random Forest   9.694579\n",
       "0  Linear Regression  15.790810\n",
       "4     KNN Regression  21.180123\n",
       "1                SVR  23.835469"
      ]
     },
     "execution_count": 156,
     "metadata": {},
     "output_type": "execute_result"
    }
   ],
   "source": [
    "ml_df = ml_df.sort_values('Values', ascending = True)\n",
    "ml_df"
   ]
  },
  {
   "cell_type": "code",
   "execution_count": 157,
   "metadata": {},
   "outputs": [
    {
     "data": {
      "text/plain": [
       "Text(0.5, 1.0, 'Comparision of different Models')"
      ]
     },
     "execution_count": 157,
     "metadata": {},
     "output_type": "execute_result"
    },
    {
     "data": {
      "image/png": "[encoded data removed]",
      "text/plain": [
       "<Figure size 576x576 with 1 Axes>"
      ]
     },
     "metadata": {},
     "output_type": "display_data"
    }
   ],
   "source": [
    "ml_df.sort_values('Values', ascending = False).plot(x= 'Model', y = 'Values', kind = 'barh' )\n",
    "plt.xlabel('Mae Score')\n",
    "plt.ylabel('Models')\n",
    "plt.title('Comparision of different Models')"
   ]
  },
  {
   "cell_type": "markdown",
   "metadata": {},
   "source": [
    "# ML models Gradiant Boosting showed the best MAE score of 9.07"
   ]
  },
  {
   "cell_type": "code",
   "execution_count": 86,
   "metadata": {},
   "outputs": [],
   "source": [
    "\n",
    "# Grades from Energy Star Score as Below\n",
    "\n",
    "def determine_grade(df,ENERGY_Score):\n",
    "    if scores >= 85 and scores <= 100:\n",
    "        return 'A'\n",
    "    elif scores >= 70 and scores <= 85:\n",
    "        return 'B'\n",
    "    elif scores >= 55 and scores <= 70:\n",
    "        return 'C'\n",
    "    elif scores >= 50:\n",
    "        return 'D'\n",
    "    else:\n",
    "        return 'Failed to submit'"
   ]
  },
  {
   "cell_type": "markdown",
   "metadata": {},
   "source": [
    "# END "
   ]
  },
  {
   "cell_type": "code",
   "execution_count": null,
   "metadata": {},
   "outputs": [],
   "source": []
  }
 ],
 "metadata": {
  "kernelspec": {
   "display_name": "Python 3",
   "language": "python",
   "name": "python3"
  },
  "language_info": {
   "codemirror_mode": {
    "name": "ipython",
    "version": 3
   },
   "file_extension": ".py",
   "mimetype": "text/x-python",
   "name": "python",
   "nbconvert_exporter": "python",
   "pygments_lexer": "ipython3",
   "version": "3.7.4"
  }
 },
 "nbformat": 4,
 "nbformat_minor": 2
}
